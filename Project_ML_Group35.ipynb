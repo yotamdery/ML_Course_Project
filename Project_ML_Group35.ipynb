{
 "cells": [
  {
   "cell_type": "markdown",
   "metadata": {},
   "source": [
    "# ML Project 2020 - June 2020"
   ]
  },
  {
   "cell_type": "markdown",
   "metadata": {},
   "source": [
    "## Submission details: \n",
    "- TEAM 35 :\n",
    "- [Yuval Eppel], [311545669]\n",
    "- [Yotam Dery], [311551170]\n",
    "- [Raphael Shuhandler], [311402200]"
   ]
  },
  {
   "cell_type": "markdown",
   "metadata": {},
   "source": [
    "# Imports"
   ]
  },
  {
   "cell_type": "code",
   "execution_count": 3,
   "metadata": {},
   "outputs": [],
   "source": [
    "import pandas as pd\n",
    "import numpy as np\n",
    "\n",
    "import math\n",
    "import seaborn as sns\n",
    "import matplotlib.pyplot as plt\n",
    "from scipy import stats\n",
    "from scipy.stats import pearsonr\n",
    "\n",
    "from sklearn.preprocessing import StandardScaler\n",
    "from sklearn.decomposition import PCA\n",
    "from sklearn.feature_selection import SelectKBest\n",
    "from sklearn.feature_selection import f_classif\n",
    "from sklearn.ensemble import ExtraTreesClassifier\n",
    "from sklearn.feature_selection import SelectFromModel\n",
    "\n",
    "from sklearn.metrics import confusion_matrix\n",
    "\n",
    "from sklearn.metrics import roc_curve, auc\n",
    "from sklearn.model_selection import KFold\n",
    "from sklearn.naive_bayes import GaussianNB\n",
    "from sklearn import neighbors\n",
    "from sklearn.linear_model import LogisticRegression\n",
    "from sklearn.tree import DecisionTreeClassifier\n",
    "from sklearn.ensemble import AdaBoostClassifier \n",
    "from sklearn.svm import SVC\n",
    "from sklearn.model_selection import GridSearchCV\n",
    "from sklearn.neighbors import KNeighborsClassifier\n",
    "from sklearn.ensemble import RandomForestClassifier\n",
    "from sklearn.neural_network import MLPClassifier\n",
    "from sklearn.metrics import plot_confusion_matrix\n",
    "from sklearn.metrics import confusion_matrix\n",
    "\n",
    "import datetime\n",
    "\n",
    "\n",
    "start_time = datetime.datetime.now()\n",
    "#we will use start time to know how long the file was running for\n"
   ]
  },
  {
   "cell_type": "markdown",
   "metadata": {},
   "source": [
    "# Reading CSV file"
   ]
  },
  {
   "cell_type": "code",
   "execution_count": 4,
   "metadata": {},
   "outputs": [],
   "source": [
    "df_train = pd.read_csv(\"train.csv\") #reading the train data\n",
    "df_test=pd.read_csv(\"test_without_target.csv\",index_col = 0) #reading the test data\n",
    "\n",
    "train_x = df_train.drop(['label'], axis=1)\n",
    "train_y = df_train['label']\n",
    "\n",
    "test_x = df_test\n"
   ]
  },
  {
   "cell_type": "markdown",
   "metadata": {},
   "source": [
    "# Part A"
   ]
  },
  {
   "cell_type": "code",
   "execution_count": 5,
   "metadata": {},
   "outputs": [
    {
     "data": {
      "image/png": "[encoded data removed]",
      "text/plain": [
       "<Figure size 432x288 with 1 Axes>"
      ]
     },
     "metadata": {},
     "output_type": "display_data"
    },
    {
     "name": "stdout",
     "output_type": "stream",
     "text": [
      "Total rows labeled as 0: 16921\n",
      "Total rows labeled as 1: 5240\n"
     ]
    }
   ],
   "source": [
    "#first, we will plot a pie chart to understand how many 0's 1's is there in the data\n",
    "\n",
    "zeros_ones = []\n",
    "zeros_ones.append(train_y[train_y==0].shape[0])\n",
    "zeros_ones.append(train_y[train_y==1].shape[0])\n",
    "\n",
    "plt.pie(zeros_ones,autopct='%1.1f%%', labels =[ 'label=0','label=1'], colors = ['lightgrey','royalblue'])\n",
    "plt.show()\n",
    "\n",
    "print('Total rows labeled as 0: ' + str(zeros_ones[0]))\n",
    "print('Total rows labeled as 1: ' + str(zeros_ones[1]))\n"
   ]
  },
  {
   "cell_type": "code",
   "execution_count": 6,
   "metadata": {},
   "outputs": [],
   "source": [
    "#setting the following option to get better and cleaner view while the code runs.\n",
    "\n",
    "pd.set_option('display.max_columns', None)\n",
    "np.warnings.filterwarnings('ignore')\n"
   ]
  },
  {
   "cell_type": "code",
   "execution_count": 7,
   "metadata": {},
   "outputs": [
    {
     "data": {
      "text/html": [
       "<div>\n",
       "<style scoped>\n",
       "    .dataframe tbody tr th:only-of-type {\n",
       "        vertical-align: middle;\n",
       "    }\n",
       "\n",
       "    .dataframe tbody tr th {\n",
       "        vertical-align: top;\n",
       "    }\n",
       "\n",
       "    .dataframe thead th {\n",
       "        text-align: right;\n",
       "    }\n",
       "</style>\n",
       "<table border=\"1\" class=\"dataframe\">\n",
       "  <thead>\n",
       "    <tr style=\"text-align: right;\">\n",
       "      <th></th>\n",
       "      <th>0</th>\n",
       "      <th>1</th>\n",
       "      <th>2</th>\n",
       "      <th>3</th>\n",
       "      <th>4</th>\n",
       "      <th>5</th>\n",
       "      <th>6</th>\n",
       "      <th>7</th>\n",
       "      <th>8</th>\n",
       "      <th>9</th>\n",
       "      <th>10</th>\n",
       "      <th>11</th>\n",
       "      <th>12</th>\n",
       "      <th>13</th>\n",
       "      <th>14</th>\n",
       "      <th>15</th>\n",
       "      <th>16</th>\n",
       "      <th>17</th>\n",
       "      <th>18</th>\n",
       "      <th>19</th>\n",
       "      <th>20</th>\n",
       "      <th>21</th>\n",
       "      <th>22</th>\n",
       "      <th>23</th>\n",
       "      <th>24</th>\n",
       "    </tr>\n",
       "  </thead>\n",
       "  <tbody>\n",
       "    <tr>\n",
       "      <th>0</th>\n",
       "      <td>1.170981</td>\n",
       "      <td>5.672133</td>\n",
       "      <td>0.6</td>\n",
       "      <td>80.0</td>\n",
       "      <td>76.0</td>\n",
       "      <td>D</td>\n",
       "      <td>a21</td>\n",
       "      <td>1.107143</td>\n",
       "      <td>0.692857</td>\n",
       "      <td>5</td>\n",
       "      <td>0.702957</td>\n",
       "      <td>1024.1</td>\n",
       "      <td>1025.9</td>\n",
       "      <td>0</td>\n",
       "      <td>0.6mm</td>\n",
       "      <td>32.0</td>\n",
       "      <td>13.9</td>\n",
       "      <td>12.2</td>\n",
       "      <td>D</td>\n",
       "      <td>D</td>\n",
       "      <td>28.0</td>\n",
       "      <td>7.0</td>\n",
       "      <td>2011</td>\n",
       "      <td>40.0</td>\n",
       "      <td>15.420787</td>\n",
       "    </tr>\n",
       "    <tr>\n",
       "      <th>1</th>\n",
       "      <td>2.595788</td>\n",
       "      <td>23.203289</td>\n",
       "      <td>6.4</td>\n",
       "      <td>43.0</td>\n",
       "      <td>64.0</td>\n",
       "      <td>N</td>\n",
       "      <td>a9</td>\n",
       "      <td>1.700000</td>\n",
       "      <td>0.614286</td>\n",
       "      <td>11</td>\n",
       "      <td>0.223911</td>\n",
       "      <td>1005.3</td>\n",
       "      <td>1008.1</td>\n",
       "      <td>0</td>\n",
       "      <td>0.0mm</td>\n",
       "      <td>50.0</td>\n",
       "      <td>18.6</td>\n",
       "      <td>16.5</td>\n",
       "      <td>N</td>\n",
       "      <td>I</td>\n",
       "      <td>61.0</td>\n",
       "      <td>43.0</td>\n",
       "      <td>2012</td>\n",
       "      <td>110.0</td>\n",
       "      <td>240.496883</td>\n",
       "    </tr>\n",
       "    <tr>\n",
       "      <th>2</th>\n",
       "      <td>0.972794</td>\n",
       "      <td>7.127348</td>\n",
       "      <td>0.4</td>\n",
       "      <td>63.0</td>\n",
       "      <td>100.0</td>\n",
       "      <td>C</td>\n",
       "      <td>a4</td>\n",
       "      <td>1.242857</td>\n",
       "      <td>0.428571</td>\n",
       "      <td>6</td>\n",
       "      <td>0.180848</td>\n",
       "      <td>1020.8</td>\n",
       "      <td>1026.5</td>\n",
       "      <td>0</td>\n",
       "      <td>0.0mm</td>\n",
       "      <td>NaN</td>\n",
       "      <td>16.5</td>\n",
       "      <td>9.6</td>\n",
       "      <td>M</td>\n",
       "      <td>NaN</td>\n",
       "      <td>15.0</td>\n",
       "      <td>7.0</td>\n",
       "      <td>2012</td>\n",
       "      <td>0.0</td>\n",
       "      <td>224.282903</td>\n",
       "    </tr>\n",
       "    <tr>\n",
       "      <th>3</th>\n",
       "      <td>1.891667</td>\n",
       "      <td>17.881507</td>\n",
       "      <td>4.2</td>\n",
       "      <td>65.0</td>\n",
       "      <td>71.0</td>\n",
       "      <td>K</td>\n",
       "      <td>a15</td>\n",
       "      <td>1.050000</td>\n",
       "      <td>0.671429</td>\n",
       "      <td>10</td>\n",
       "      <td>0.181289</td>\n",
       "      <td>1021.9</td>\n",
       "      <td>1019.8</td>\n",
       "      <td>0</td>\n",
       "      <td>0.8mm</td>\n",
       "      <td>88.0</td>\n",
       "      <td>14.2</td>\n",
       "      <td>11.4</td>\n",
       "      <td>K</td>\n",
       "      <td>D</td>\n",
       "      <td>39.0</td>\n",
       "      <td>24.0</td>\n",
       "      <td>2010</td>\n",
       "      <td>130.0</td>\n",
       "      <td>86.810830</td>\n",
       "    </tr>\n",
       "    <tr>\n",
       "      <th>4</th>\n",
       "      <td>1.965881</td>\n",
       "      <td>13.936969</td>\n",
       "      <td>3.2</td>\n",
       "      <td>40.0</td>\n",
       "      <td>62.0</td>\n",
       "      <td>F</td>\n",
       "      <td>a1</td>\n",
       "      <td>1.950000</td>\n",
       "      <td>1.085714</td>\n",
       "      <td>3</td>\n",
       "      <td>0.237347</td>\n",
       "      <td>1005.3</td>\n",
       "      <td>1007.8</td>\n",
       "      <td>0</td>\n",
       "      <td>0.0mm</td>\n",
       "      <td>112.0</td>\n",
       "      <td>26.6</td>\n",
       "      <td>23.4</td>\n",
       "      <td>C</td>\n",
       "      <td>NaN</td>\n",
       "      <td>30.0</td>\n",
       "      <td>20.0</td>\n",
       "      <td>2011</td>\n",
       "      <td>0.0</td>\n",
       "      <td>120.642922</td>\n",
       "    </tr>\n",
       "    <tr>\n",
       "      <th>5</th>\n",
       "      <td>2.238301</td>\n",
       "      <td>18.192718</td>\n",
       "      <td>4.8</td>\n",
       "      <td>59.0</td>\n",
       "      <td>56.0</td>\n",
       "      <td>B</td>\n",
       "      <td>a28</td>\n",
       "      <td>1.364286</td>\n",
       "      <td>0.657143</td>\n",
       "      <td>11</td>\n",
       "      <td>0.264140</td>\n",
       "      <td>1017.7</td>\n",
       "      <td>1019.7</td>\n",
       "      <td>0</td>\n",
       "      <td>0.0mm</td>\n",
       "      <td>82.0</td>\n",
       "      <td>17.5</td>\n",
       "      <td>14.9</td>\n",
       "      <td>L</td>\n",
       "      <td>A</td>\n",
       "      <td>37.0</td>\n",
       "      <td>17.0</td>\n",
       "      <td>2012</td>\n",
       "      <td>110.0</td>\n",
       "      <td>402.396080</td>\n",
       "    </tr>\n",
       "    <tr>\n",
       "      <th>6</th>\n",
       "      <td>2.509753</td>\n",
       "      <td>20.039362</td>\n",
       "      <td>4.8</td>\n",
       "      <td>87.0</td>\n",
       "      <td>91.0</td>\n",
       "      <td>M</td>\n",
       "      <td>a18</td>\n",
       "      <td>1.514286</td>\n",
       "      <td>1.271429</td>\n",
       "      <td>5</td>\n",
       "      <td>0.479375</td>\n",
       "      <td>1017.3</td>\n",
       "      <td>1021.3</td>\n",
       "      <td>1</td>\n",
       "      <td>4.2mm</td>\n",
       "      <td>9.0</td>\n",
       "      <td>20.3</td>\n",
       "      <td>19.4</td>\n",
       "      <td>F</td>\n",
       "      <td>K</td>\n",
       "      <td>13.0</td>\n",
       "      <td>7.0</td>\n",
       "      <td>2010</td>\n",
       "      <td>40.0</td>\n",
       "      <td>245.518984</td>\n",
       "    </tr>\n",
       "    <tr>\n",
       "      <th>7</th>\n",
       "      <td>2.222053</td>\n",
       "      <td>20.316311</td>\n",
       "      <td>5.0</td>\n",
       "      <td>70.0</td>\n",
       "      <td>86.0</td>\n",
       "      <td>E</td>\n",
       "      <td>a12</td>\n",
       "      <td>1.678571</td>\n",
       "      <td>1.500000</td>\n",
       "      <td>12</td>\n",
       "      <td>0.015658</td>\n",
       "      <td>1003.5</td>\n",
       "      <td>1003.5</td>\n",
       "      <td>1</td>\n",
       "      <td>2.6mm</td>\n",
       "      <td>6.0</td>\n",
       "      <td>22.2</td>\n",
       "      <td>21.2</td>\n",
       "      <td>N</td>\n",
       "      <td>E</td>\n",
       "      <td>65.0</td>\n",
       "      <td>20.0</td>\n",
       "      <td>2010</td>\n",
       "      <td>370.0</td>\n",
       "      <td>535.854669</td>\n",
       "    </tr>\n",
       "    <tr>\n",
       "      <th>8</th>\n",
       "      <td>1.809370</td>\n",
       "      <td>15.331249</td>\n",
       "      <td>3.6</td>\n",
       "      <td>37.0</td>\n",
       "      <td>68.0</td>\n",
       "      <td>O</td>\n",
       "      <td>a29</td>\n",
       "      <td>1.364286</td>\n",
       "      <td>0.307143</td>\n",
       "      <td>5</td>\n",
       "      <td>0.246409</td>\n",
       "      <td>1018.8</td>\n",
       "      <td>1022.4</td>\n",
       "      <td>0</td>\n",
       "      <td>0.0mm</td>\n",
       "      <td>99.0</td>\n",
       "      <td>18.5</td>\n",
       "      <td>11.3</td>\n",
       "      <td>O</td>\n",
       "      <td>B</td>\n",
       "      <td>43.0</td>\n",
       "      <td>20.0</td>\n",
       "      <td>2011</td>\n",
       "      <td>90.0</td>\n",
       "      <td>13.274009</td>\n",
       "    </tr>\n",
       "    <tr>\n",
       "      <th>9</th>\n",
       "      <td>3.445552</td>\n",
       "      <td>41.997306</td>\n",
       "      <td>12.2</td>\n",
       "      <td>36.0</td>\n",
       "      <td>36.0</td>\n",
       "      <td>D</td>\n",
       "      <td>a26</td>\n",
       "      <td>2.364286</td>\n",
       "      <td>1.314286</td>\n",
       "      <td>1</td>\n",
       "      <td>0.280882</td>\n",
       "      <td>1006.3</td>\n",
       "      <td>1006.9</td>\n",
       "      <td>0</td>\n",
       "      <td>0.0mm</td>\n",
       "      <td>132.0</td>\n",
       "      <td>30.1</td>\n",
       "      <td>27.6</td>\n",
       "      <td>K</td>\n",
       "      <td>P</td>\n",
       "      <td>50.0</td>\n",
       "      <td>30.0</td>\n",
       "      <td>2010</td>\n",
       "      <td>90.0</td>\n",
       "      <td>352.879837</td>\n",
       "    </tr>\n",
       "  </tbody>\n",
       "</table>\n",
       "</div>"
      ],
      "text/plain": [
       "          0          1     2     3      4  5    6         7         8   9  \\\n",
       "0  1.170981   5.672133   0.6  80.0   76.0  D  a21  1.107143  0.692857   5   \n",
       "1  2.595788  23.203289   6.4  43.0   64.0  N   a9  1.700000  0.614286  11   \n",
       "2  0.972794   7.127348   0.4  63.0  100.0  C   a4  1.242857  0.428571   6   \n",
       "3  1.891667  17.881507   4.2  65.0   71.0  K  a15  1.050000  0.671429  10   \n",
       "4  1.965881  13.936969   3.2  40.0   62.0  F   a1  1.950000  1.085714   3   \n",
       "5  2.238301  18.192718   4.8  59.0   56.0  B  a28  1.364286  0.657143  11   \n",
       "6  2.509753  20.039362   4.8  87.0   91.0  M  a18  1.514286  1.271429   5   \n",
       "7  2.222053  20.316311   5.0  70.0   86.0  E  a12  1.678571  1.500000  12   \n",
       "8  1.809370  15.331249   3.6  37.0   68.0  O  a29  1.364286  0.307143   5   \n",
       "9  3.445552  41.997306  12.2  36.0   36.0  D  a26  2.364286  1.314286   1   \n",
       "\n",
       "         10      11      12 13     14     15    16    17 18   19    20    21  \\\n",
       "0  0.702957  1024.1  1025.9  0  0.6mm   32.0  13.9  12.2  D    D  28.0   7.0   \n",
       "1  0.223911  1005.3  1008.1  0  0.0mm   50.0  18.6  16.5  N    I  61.0  43.0   \n",
       "2  0.180848  1020.8  1026.5  0  0.0mm    NaN  16.5   9.6  M  NaN  15.0   7.0   \n",
       "3  0.181289  1021.9  1019.8  0  0.8mm   88.0  14.2  11.4  K    D  39.0  24.0   \n",
       "4  0.237347  1005.3  1007.8  0  0.0mm  112.0  26.6  23.4  C  NaN  30.0  20.0   \n",
       "5  0.264140  1017.7  1019.7  0  0.0mm   82.0  17.5  14.9  L    A  37.0  17.0   \n",
       "6  0.479375  1017.3  1021.3  1  4.2mm    9.0  20.3  19.4  F    K  13.0   7.0   \n",
       "7  0.015658  1003.5  1003.5  1  2.6mm    6.0  22.2  21.2  N    E  65.0  20.0   \n",
       "8  0.246409  1018.8  1022.4  0  0.0mm   99.0  18.5  11.3  O    B  43.0  20.0   \n",
       "9  0.280882  1006.3  1006.9  0  0.0mm  132.0  30.1  27.6  K    P  50.0  30.0   \n",
       "\n",
       "     22     23          24  \n",
       "0  2011   40.0   15.420787  \n",
       "1  2012  110.0  240.496883  \n",
       "2  2012    0.0  224.282903  \n",
       "3  2010  130.0   86.810830  \n",
       "4  2011    0.0  120.642922  \n",
       "5  2012  110.0  402.396080  \n",
       "6  2010   40.0  245.518984  \n",
       "7  2010  370.0  535.854669  \n",
       "8  2011   90.0   13.274009  \n",
       "9  2010   90.0  352.879837  "
      ]
     },
     "execution_count": 7,
     "metadata": {},
     "output_type": "execute_result"
    }
   ],
   "source": [
    "train_x.head(10) #showing the first 10 rows."
   ]
  },
  {
   "cell_type": "code",
   "execution_count": 8,
   "metadata": {},
   "outputs": [
    {
     "data": {
      "text/html": [
       "<div>\n",
       "<style scoped>\n",
       "    .dataframe tbody tr th:only-of-type {\n",
       "        vertical-align: middle;\n",
       "    }\n",
       "\n",
       "    .dataframe tbody tr th {\n",
       "        vertical-align: top;\n",
       "    }\n",
       "\n",
       "    .dataframe thead th {\n",
       "        text-align: right;\n",
       "    }\n",
       "</style>\n",
       "<table border=\"1\" class=\"dataframe\">\n",
       "  <thead>\n",
       "    <tr style=\"text-align: right;\">\n",
       "      <th></th>\n",
       "      <th>0</th>\n",
       "      <th>1</th>\n",
       "      <th>2</th>\n",
       "      <th>3</th>\n",
       "      <th>4</th>\n",
       "      <th>5</th>\n",
       "      <th>6</th>\n",
       "      <th>7</th>\n",
       "      <th>8</th>\n",
       "      <th>9</th>\n",
       "      <th>10</th>\n",
       "      <th>11</th>\n",
       "      <th>12</th>\n",
       "      <th>13</th>\n",
       "      <th>14</th>\n",
       "      <th>15</th>\n",
       "      <th>16</th>\n",
       "      <th>17</th>\n",
       "      <th>18</th>\n",
       "      <th>19</th>\n",
       "      <th>20</th>\n",
       "      <th>21</th>\n",
       "      <th>22</th>\n",
       "      <th>23</th>\n",
       "      <th>24</th>\n",
       "    </tr>\n",
       "  </thead>\n",
       "  <tbody>\n",
       "    <tr>\n",
       "      <th>22151</th>\n",
       "      <td>1.972832</td>\n",
       "      <td>15.732368</td>\n",
       "      <td>4.2</td>\n",
       "      <td>32.0</td>\n",
       "      <td>55.0</td>\n",
       "      <td>I</td>\n",
       "      <td>a18</td>\n",
       "      <td>1.607143</td>\n",
       "      <td>0.950000</td>\n",
       "      <td>6</td>\n",
       "      <td>0.209661</td>\n",
       "      <td>1012.5</td>\n",
       "      <td>1014.1</td>\n",
       "      <td>0</td>\n",
       "      <td>0.0mm</td>\n",
       "      <td>95.0</td>\n",
       "      <td>21.9</td>\n",
       "      <td>18.1</td>\n",
       "      <td>I</td>\n",
       "      <td>O</td>\n",
       "      <td>31.0</td>\n",
       "      <td>13.0</td>\n",
       "      <td>2010</td>\n",
       "      <td>20.0</td>\n",
       "      <td>6.789896</td>\n",
       "    </tr>\n",
       "    <tr>\n",
       "      <th>22152</th>\n",
       "      <td>2.118902</td>\n",
       "      <td>17.263571</td>\n",
       "      <td>4.6</td>\n",
       "      <td>70.0</td>\n",
       "      <td>88.0</td>\n",
       "      <td>A</td>\n",
       "      <td>a6</td>\n",
       "      <td>1.614286</td>\n",
       "      <td>1.350000</td>\n",
       "      <td>12</td>\n",
       "      <td>0.326071</td>\n",
       "      <td>1017.0</td>\n",
       "      <td>1018.8</td>\n",
       "      <td>0</td>\n",
       "      <td>0.8mm</td>\n",
       "      <td>21.0</td>\n",
       "      <td>21.3</td>\n",
       "      <td>18.9</td>\n",
       "      <td>F</td>\n",
       "      <td>B</td>\n",
       "      <td>30.0</td>\n",
       "      <td>17.0</td>\n",
       "      <td>2011</td>\n",
       "      <td>130.0</td>\n",
       "      <td>152.371731</td>\n",
       "    </tr>\n",
       "    <tr>\n",
       "      <th>22153</th>\n",
       "      <td>1.382546</td>\n",
       "      <td>11.789845</td>\n",
       "      <td>2.0</td>\n",
       "      <td>76.0</td>\n",
       "      <td>94.0</td>\n",
       "      <td>I</td>\n",
       "      <td>a23</td>\n",
       "      <td>1.371429</td>\n",
       "      <td>0.921429</td>\n",
       "      <td>11</td>\n",
       "      <td>0.287424</td>\n",
       "      <td>1011.3</td>\n",
       "      <td>1011.0</td>\n",
       "      <td>1</td>\n",
       "      <td>26.0mm</td>\n",
       "      <td>76.0</td>\n",
       "      <td>17.4</td>\n",
       "      <td>14.7</td>\n",
       "      <td>I</td>\n",
       "      <td>K</td>\n",
       "      <td>44.0</td>\n",
       "      <td>24.0</td>\n",
       "      <td>2011</td>\n",
       "      <td>190.0</td>\n",
       "      <td>405.624628</td>\n",
       "    </tr>\n",
       "    <tr>\n",
       "      <th>22154</th>\n",
       "      <td>1.229473</td>\n",
       "      <td>10.965397</td>\n",
       "      <td>1.6</td>\n",
       "      <td>65.0</td>\n",
       "      <td>80.0</td>\n",
       "      <td>O</td>\n",
       "      <td>a12</td>\n",
       "      <td>1.100000</td>\n",
       "      <td>0.635714</td>\n",
       "      <td>10</td>\n",
       "      <td>0.382148</td>\n",
       "      <td>1017.5</td>\n",
       "      <td>1016.3</td>\n",
       "      <td>1</td>\n",
       "      <td>5.2mm</td>\n",
       "      <td>21.0</td>\n",
       "      <td>14.3</td>\n",
       "      <td>11.8</td>\n",
       "      <td>L</td>\n",
       "      <td>P</td>\n",
       "      <td>48.0</td>\n",
       "      <td>31.0</td>\n",
       "      <td>2011</td>\n",
       "      <td>300.0</td>\n",
       "      <td>351.117653</td>\n",
       "    </tr>\n",
       "    <tr>\n",
       "      <th>22155</th>\n",
       "      <td>2.490226</td>\n",
       "      <td>20.441516</td>\n",
       "      <td>4.8</td>\n",
       "      <td>53.0</td>\n",
       "      <td>67.0</td>\n",
       "      <td>O</td>\n",
       "      <td>a13</td>\n",
       "      <td>1.471429</td>\n",
       "      <td>0.942857</td>\n",
       "      <td>10</td>\n",
       "      <td>0.162087</td>\n",
       "      <td>1020.5</td>\n",
       "      <td>1023.2</td>\n",
       "      <td>1</td>\n",
       "      <td>1.8mm</td>\n",
       "      <td>NaN</td>\n",
       "      <td>19.4</td>\n",
       "      <td>14.0</td>\n",
       "      <td>B</td>\n",
       "      <td>B</td>\n",
       "      <td>31.0</td>\n",
       "      <td>7.0</td>\n",
       "      <td>2010</td>\n",
       "      <td>130.0</td>\n",
       "      <td>233.353919</td>\n",
       "    </tr>\n",
       "    <tr>\n",
       "      <th>22156</th>\n",
       "      <td>1.408356</td>\n",
       "      <td>13.767739</td>\n",
       "      <td>2.8</td>\n",
       "      <td>55.0</td>\n",
       "      <td>83.0</td>\n",
       "      <td>K</td>\n",
       "      <td>a23</td>\n",
       "      <td>1.364286</td>\n",
       "      <td>0.685714</td>\n",
       "      <td>4</td>\n",
       "      <td>0.119284</td>\n",
       "      <td>1022.0</td>\n",
       "      <td>1022.0</td>\n",
       "      <td>1</td>\n",
       "      <td>1.8mm</td>\n",
       "      <td>99.0</td>\n",
       "      <td>17.5</td>\n",
       "      <td>13.8</td>\n",
       "      <td>D</td>\n",
       "      <td>I</td>\n",
       "      <td>31.0</td>\n",
       "      <td>15.0</td>\n",
       "      <td>2010</td>\n",
       "      <td>90.0</td>\n",
       "      <td>115.748582</td>\n",
       "    </tr>\n",
       "    <tr>\n",
       "      <th>22157</th>\n",
       "      <td>2.259704</td>\n",
       "      <td>15.816408</td>\n",
       "      <td>3.8</td>\n",
       "      <td>37.0</td>\n",
       "      <td>71.0</td>\n",
       "      <td>I</td>\n",
       "      <td>a5</td>\n",
       "      <td>1.507143</td>\n",
       "      <td>0.742857</td>\n",
       "      <td>5</td>\n",
       "      <td>0.248723</td>\n",
       "      <td>1020.3</td>\n",
       "      <td>1023.1</td>\n",
       "      <td>0</td>\n",
       "      <td>0.0mm</td>\n",
       "      <td>90.0</td>\n",
       "      <td>20.4</td>\n",
       "      <td>12.4</td>\n",
       "      <td>N</td>\n",
       "      <td>I</td>\n",
       "      <td>30.0</td>\n",
       "      <td>9.0</td>\n",
       "      <td>2012</td>\n",
       "      <td>240.0</td>\n",
       "      <td>259.280483</td>\n",
       "    </tr>\n",
       "    <tr>\n",
       "      <th>22158</th>\n",
       "      <td>2.179382</td>\n",
       "      <td>15.663662</td>\n",
       "      <td>3.4</td>\n",
       "      <td>96.0</td>\n",
       "      <td>95.0</td>\n",
       "      <td>G</td>\n",
       "      <td>a0</td>\n",
       "      <td>0.957143</td>\n",
       "      <td>0.821429</td>\n",
       "      <td>7</td>\n",
       "      <td>0.076460</td>\n",
       "      <td>1016.0</td>\n",
       "      <td>1018.7</td>\n",
       "      <td>1</td>\n",
       "      <td>10.8mm</td>\n",
       "      <td>NaN</td>\n",
       "      <td>13.3</td>\n",
       "      <td>11.9</td>\n",
       "      <td>E</td>\n",
       "      <td>G</td>\n",
       "      <td>46.0</td>\n",
       "      <td>15.0</td>\n",
       "      <td>2012</td>\n",
       "      <td>260.0</td>\n",
       "      <td>392.348764</td>\n",
       "    </tr>\n",
       "    <tr>\n",
       "      <th>22159</th>\n",
       "      <td>2.014433</td>\n",
       "      <td>15.594799</td>\n",
       "      <td>3.2</td>\n",
       "      <td>89.0</td>\n",
       "      <td>95.0</td>\n",
       "      <td>N</td>\n",
       "      <td>a17</td>\n",
       "      <td>1.000000</td>\n",
       "      <td>0.700000</td>\n",
       "      <td>5</td>\n",
       "      <td>0.284438</td>\n",
       "      <td>1008.5</td>\n",
       "      <td>1010.5</td>\n",
       "      <td>1</td>\n",
       "      <td>2.6mm</td>\n",
       "      <td>27.0</td>\n",
       "      <td>11.9</td>\n",
       "      <td>12.5</td>\n",
       "      <td>J</td>\n",
       "      <td>J</td>\n",
       "      <td>50.0</td>\n",
       "      <td>17.0</td>\n",
       "      <td>2010</td>\n",
       "      <td>150.0</td>\n",
       "      <td>259.886217</td>\n",
       "    </tr>\n",
       "    <tr>\n",
       "      <th>22160</th>\n",
       "      <td>1.823822</td>\n",
       "      <td>16.990636</td>\n",
       "      <td>4.0</td>\n",
       "      <td>59.0</td>\n",
       "      <td>62.0</td>\n",
       "      <td>NaN</td>\n",
       "      <td>a25</td>\n",
       "      <td>1.257143</td>\n",
       "      <td>0.885714</td>\n",
       "      <td>9</td>\n",
       "      <td>0.265140</td>\n",
       "      <td>1033.1</td>\n",
       "      <td>1037.1</td>\n",
       "      <td>0</td>\n",
       "      <td>0.0mm</td>\n",
       "      <td>57.0</td>\n",
       "      <td>16.1</td>\n",
       "      <td>14.5</td>\n",
       "      <td>C</td>\n",
       "      <td>A</td>\n",
       "      <td>NaN</td>\n",
       "      <td>19.0</td>\n",
       "      <td>2010</td>\n",
       "      <td>70.0</td>\n",
       "      <td>83.368091</td>\n",
       "    </tr>\n",
       "  </tbody>\n",
       "</table>\n",
       "</div>"
      ],
      "text/plain": [
       "              0          1    2     3     4    5    6         7         8   9  \\\n",
       "22151  1.972832  15.732368  4.2  32.0  55.0    I  a18  1.607143  0.950000   6   \n",
       "22152  2.118902  17.263571  4.6  70.0  88.0    A   a6  1.614286  1.350000  12   \n",
       "22153  1.382546  11.789845  2.0  76.0  94.0    I  a23  1.371429  0.921429  11   \n",
       "22154  1.229473  10.965397  1.6  65.0  80.0    O  a12  1.100000  0.635714  10   \n",
       "22155  2.490226  20.441516  4.8  53.0  67.0    O  a13  1.471429  0.942857  10   \n",
       "22156  1.408356  13.767739  2.8  55.0  83.0    K  a23  1.364286  0.685714   4   \n",
       "22157  2.259704  15.816408  3.8  37.0  71.0    I   a5  1.507143  0.742857   5   \n",
       "22158  2.179382  15.663662  3.4  96.0  95.0    G   a0  0.957143  0.821429   7   \n",
       "22159  2.014433  15.594799  3.2  89.0  95.0    N  a17  1.000000  0.700000   5   \n",
       "22160  1.823822  16.990636  4.0  59.0  62.0  NaN  a25  1.257143  0.885714   9   \n",
       "\n",
       "             10      11      12 13      14    15    16    17 18 19    20  \\\n",
       "22151  0.209661  1012.5  1014.1  0   0.0mm  95.0  21.9  18.1  I  O  31.0   \n",
       "22152  0.326071  1017.0  1018.8  0   0.8mm  21.0  21.3  18.9  F  B  30.0   \n",
       "22153  0.287424  1011.3  1011.0  1  26.0mm  76.0  17.4  14.7  I  K  44.0   \n",
       "22154  0.382148  1017.5  1016.3  1   5.2mm  21.0  14.3  11.8  L  P  48.0   \n",
       "22155  0.162087  1020.5  1023.2  1   1.8mm   NaN  19.4  14.0  B  B  31.0   \n",
       "22156  0.119284  1022.0  1022.0  1   1.8mm  99.0  17.5  13.8  D  I  31.0   \n",
       "22157  0.248723  1020.3  1023.1  0   0.0mm  90.0  20.4  12.4  N  I  30.0   \n",
       "22158  0.076460  1016.0  1018.7  1  10.8mm   NaN  13.3  11.9  E  G  46.0   \n",
       "22159  0.284438  1008.5  1010.5  1   2.6mm  27.0  11.9  12.5  J  J  50.0   \n",
       "22160  0.265140  1033.1  1037.1  0   0.0mm  57.0  16.1  14.5  C  A   NaN   \n",
       "\n",
       "         21    22     23          24  \n",
       "22151  13.0  2010   20.0    6.789896  \n",
       "22152  17.0  2011  130.0  152.371731  \n",
       "22153  24.0  2011  190.0  405.624628  \n",
       "22154  31.0  2011  300.0  351.117653  \n",
       "22155   7.0  2010  130.0  233.353919  \n",
       "22156  15.0  2010   90.0  115.748582  \n",
       "22157   9.0  2012  240.0  259.280483  \n",
       "22158  15.0  2012  260.0  392.348764  \n",
       "22159  17.0  2010  150.0  259.886217  \n",
       "22160  19.0  2010   70.0   83.368091  "
      ]
     },
     "execution_count": 8,
     "metadata": {},
     "output_type": "execute_result"
    }
   ],
   "source": [
    "train_x.tail(10) #showing the last 10 rows."
   ]
  },
  {
   "cell_type": "code",
   "execution_count": 9,
   "metadata": {},
   "outputs": [
    {
     "data": {
      "text/plain": [
       "0     float64\n",
       "1     float64\n",
       "2     float64\n",
       "3     float64\n",
       "4     float64\n",
       "5      object\n",
       "6      object\n",
       "7     float64\n",
       "8     float64\n",
       "9       int64\n",
       "10    float64\n",
       "11    float64\n",
       "12    float64\n",
       "13     object\n",
       "14     object\n",
       "15    float64\n",
       "16    float64\n",
       "17    float64\n",
       "18     object\n",
       "19     object\n",
       "20    float64\n",
       "21    float64\n",
       "22      int64\n",
       "23    float64\n",
       "24    float64\n",
       "dtype: object"
      ]
     },
     "execution_count": 9,
     "metadata": {},
     "output_type": "execute_result"
    }
   ],
   "source": [
    "train_x.dtypes #showing data types for each column"
   ]
  },
  {
   "cell_type": "code",
   "execution_count": 10,
   "metadata": {},
   "outputs": [
    {
     "data": {
      "text/html": [
       "<div>\n",
       "<style scoped>\n",
       "    .dataframe tbody tr th:only-of-type {\n",
       "        vertical-align: middle;\n",
       "    }\n",
       "\n",
       "    .dataframe tbody tr th {\n",
       "        vertical-align: top;\n",
       "    }\n",
       "\n",
       "    .dataframe thead th {\n",
       "        text-align: right;\n",
       "    }\n",
       "</style>\n",
       "<table border=\"1\" class=\"dataframe\">\n",
       "  <thead>\n",
       "    <tr style=\"text-align: right;\">\n",
       "      <th></th>\n",
       "      <th>count</th>\n",
       "      <th>mean</th>\n",
       "      <th>std</th>\n",
       "      <th>min</th>\n",
       "      <th>25%</th>\n",
       "      <th>50%</th>\n",
       "      <th>75%</th>\n",
       "      <th>max</th>\n",
       "    </tr>\n",
       "  </thead>\n",
       "  <tbody>\n",
       "    <tr>\n",
       "      <th>0</th>\n",
       "      <td>22161.0</td>\n",
       "      <td>2.185958</td>\n",
       "      <td>0.815080</td>\n",
       "      <td>-0.490607</td>\n",
       "      <td>1.622068</td>\n",
       "      <td>2.167701</td>\n",
       "      <td>2.720341</td>\n",
       "      <td>9.092011</td>\n",
       "    </tr>\n",
       "    <tr>\n",
       "      <th>1</th>\n",
       "      <td>22161.0</td>\n",
       "      <td>19.797754</td>\n",
       "      <td>10.763614</td>\n",
       "      <td>2.437300</td>\n",
       "      <td>12.268371</td>\n",
       "      <td>17.833216</td>\n",
       "      <td>25.196446</td>\n",
       "      <td>248.877854</td>\n",
       "    </tr>\n",
       "    <tr>\n",
       "      <th>2</th>\n",
       "      <td>22161.0</td>\n",
       "      <td>4.929620</td>\n",
       "      <td>3.572644</td>\n",
       "      <td>0.000000</td>\n",
       "      <td>2.400000</td>\n",
       "      <td>4.200000</td>\n",
       "      <td>6.600000</td>\n",
       "      <td>81.200000</td>\n",
       "    </tr>\n",
       "    <tr>\n",
       "      <th>3</th>\n",
       "      <td>22102.0</td>\n",
       "      <td>51.547009</td>\n",
       "      <td>20.184353</td>\n",
       "      <td>1.000000</td>\n",
       "      <td>37.000000</td>\n",
       "      <td>52.000000</td>\n",
       "      <td>65.000000</td>\n",
       "      <td>100.000000</td>\n",
       "    </tr>\n",
       "    <tr>\n",
       "      <th>4</th>\n",
       "      <td>22057.0</td>\n",
       "      <td>68.497982</td>\n",
       "      <td>18.231315</td>\n",
       "      <td>3.000000</td>\n",
       "      <td>57.000000</td>\n",
       "      <td>69.000000</td>\n",
       "      <td>82.000000</td>\n",
       "      <td>100.000000</td>\n",
       "    </tr>\n",
       "    <tr>\n",
       "      <th>7</th>\n",
       "      <td>22154.0</td>\n",
       "      <td>1.648476</td>\n",
       "      <td>0.480275</td>\n",
       "      <td>0.450000</td>\n",
       "      <td>1.271429</td>\n",
       "      <td>1.607143</td>\n",
       "      <td>2.007143</td>\n",
       "      <td>3.435714</td>\n",
       "    </tr>\n",
       "    <tr>\n",
       "      <th>8</th>\n",
       "      <td>22143.0</td>\n",
       "      <td>0.888041</td>\n",
       "      <td>0.461375</td>\n",
       "      <td>-0.492857</td>\n",
       "      <td>0.542857</td>\n",
       "      <td>0.864286</td>\n",
       "      <td>1.242857</td>\n",
       "      <td>2.128571</td>\n",
       "    </tr>\n",
       "    <tr>\n",
       "      <th>9</th>\n",
       "      <td>22161.0</td>\n",
       "      <td>6.429358</td>\n",
       "      <td>3.381488</td>\n",
       "      <td>1.000000</td>\n",
       "      <td>3.000000</td>\n",
       "      <td>7.000000</td>\n",
       "      <td>9.000000</td>\n",
       "      <td>12.000000</td>\n",
       "    </tr>\n",
       "    <tr>\n",
       "      <th>10</th>\n",
       "      <td>22161.0</td>\n",
       "      <td>0.228284</td>\n",
       "      <td>0.161565</td>\n",
       "      <td>-0.195661</td>\n",
       "      <td>0.136002</td>\n",
       "      <td>0.206457</td>\n",
       "      <td>0.278929</td>\n",
       "      <td>0.954076</td>\n",
       "    </tr>\n",
       "    <tr>\n",
       "      <th>11</th>\n",
       "      <td>22055.0</td>\n",
       "      <td>1015.347014</td>\n",
       "      <td>7.011856</td>\n",
       "      <td>984.500000</td>\n",
       "      <td>1010.600000</td>\n",
       "      <td>1015.300000</td>\n",
       "      <td>1020.000000</td>\n",
       "      <td>1038.900000</td>\n",
       "    </tr>\n",
       "    <tr>\n",
       "      <th>12</th>\n",
       "      <td>22048.0</td>\n",
       "      <td>1017.708572</td>\n",
       "      <td>7.085807</td>\n",
       "      <td>983.700000</td>\n",
       "      <td>1013.000000</td>\n",
       "      <td>1017.700000</td>\n",
       "      <td>1022.400000</td>\n",
       "      <td>1040.900000</td>\n",
       "    </tr>\n",
       "    <tr>\n",
       "      <th>15</th>\n",
       "      <td>20290.0</td>\n",
       "      <td>73.685017</td>\n",
       "      <td>37.866780</td>\n",
       "      <td>0.000000</td>\n",
       "      <td>45.000000</td>\n",
       "      <td>82.000000</td>\n",
       "      <td>104.000000</td>\n",
       "      <td>143.000000</td>\n",
       "    </tr>\n",
       "    <tr>\n",
       "      <th>16</th>\n",
       "      <td>22133.0</td>\n",
       "      <td>21.617133</td>\n",
       "      <td>6.602743</td>\n",
       "      <td>3.900000</td>\n",
       "      <td>16.500000</td>\n",
       "      <td>21.000000</td>\n",
       "      <td>26.400000</td>\n",
       "      <td>46.100000</td>\n",
       "    </tr>\n",
       "    <tr>\n",
       "      <th>17</th>\n",
       "      <td>22109.0</td>\n",
       "      <td>17.065837</td>\n",
       "      <td>6.409174</td>\n",
       "      <td>-0.700000</td>\n",
       "      <td>12.100000</td>\n",
       "      <td>16.600000</td>\n",
       "      <td>21.800000</td>\n",
       "      <td>36.900000</td>\n",
       "    </tr>\n",
       "    <tr>\n",
       "      <th>20</th>\n",
       "      <td>20816.0</td>\n",
       "      <td>39.995484</td>\n",
       "      <td>13.150807</td>\n",
       "      <td>11.000000</td>\n",
       "      <td>31.000000</td>\n",
       "      <td>39.000000</td>\n",
       "      <td>48.000000</td>\n",
       "      <td>135.000000</td>\n",
       "    </tr>\n",
       "    <tr>\n",
       "      <th>21</th>\n",
       "      <td>22062.0</td>\n",
       "      <td>19.101577</td>\n",
       "      <td>8.546933</td>\n",
       "      <td>0.000000</td>\n",
       "      <td>13.000000</td>\n",
       "      <td>19.000000</td>\n",
       "      <td>24.000000</td>\n",
       "      <td>69.000000</td>\n",
       "    </tr>\n",
       "    <tr>\n",
       "      <th>22</th>\n",
       "      <td>22161.0</td>\n",
       "      <td>2010.945264</td>\n",
       "      <td>0.823740</td>\n",
       "      <td>2010.000000</td>\n",
       "      <td>2010.000000</td>\n",
       "      <td>2011.000000</td>\n",
       "      <td>2012.000000</td>\n",
       "      <td>2012.000000</td>\n",
       "    </tr>\n",
       "    <tr>\n",
       "      <th>23</th>\n",
       "      <td>22061.0</td>\n",
       "      <td>146.971579</td>\n",
       "      <td>86.609704</td>\n",
       "      <td>0.000000</td>\n",
       "      <td>90.000000</td>\n",
       "      <td>130.000000</td>\n",
       "      <td>200.000000</td>\n",
       "      <td>670.000000</td>\n",
       "    </tr>\n",
       "    <tr>\n",
       "      <th>24</th>\n",
       "      <td>22061.0</td>\n",
       "      <td>224.835441</td>\n",
       "      <td>160.801099</td>\n",
       "      <td>0.001355</td>\n",
       "      <td>100.144819</td>\n",
       "      <td>199.866581</td>\n",
       "      <td>316.118054</td>\n",
       "      <td>1426.459838</td>\n",
       "    </tr>\n",
       "  </tbody>\n",
       "</table>\n",
       "</div>"
      ],
      "text/plain": [
       "      count         mean         std          min          25%          50%  \\\n",
       "0   22161.0     2.185958    0.815080    -0.490607     1.622068     2.167701   \n",
       "1   22161.0    19.797754   10.763614     2.437300    12.268371    17.833216   \n",
       "2   22161.0     4.929620    3.572644     0.000000     2.400000     4.200000   \n",
       "3   22102.0    51.547009   20.184353     1.000000    37.000000    52.000000   \n",
       "4   22057.0    68.497982   18.231315     3.000000    57.000000    69.000000   \n",
       "7   22154.0     1.648476    0.480275     0.450000     1.271429     1.607143   \n",
       "8   22143.0     0.888041    0.461375    -0.492857     0.542857     0.864286   \n",
       "9   22161.0     6.429358    3.381488     1.000000     3.000000     7.000000   \n",
       "10  22161.0     0.228284    0.161565    -0.195661     0.136002     0.206457   \n",
       "11  22055.0  1015.347014    7.011856   984.500000  1010.600000  1015.300000   \n",
       "12  22048.0  1017.708572    7.085807   983.700000  1013.000000  1017.700000   \n",
       "15  20290.0    73.685017   37.866780     0.000000    45.000000    82.000000   \n",
       "16  22133.0    21.617133    6.602743     3.900000    16.500000    21.000000   \n",
       "17  22109.0    17.065837    6.409174    -0.700000    12.100000    16.600000   \n",
       "20  20816.0    39.995484   13.150807    11.000000    31.000000    39.000000   \n",
       "21  22062.0    19.101577    8.546933     0.000000    13.000000    19.000000   \n",
       "22  22161.0  2010.945264    0.823740  2010.000000  2010.000000  2011.000000   \n",
       "23  22061.0   146.971579   86.609704     0.000000    90.000000   130.000000   \n",
       "24  22061.0   224.835441  160.801099     0.001355   100.144819   199.866581   \n",
       "\n",
       "            75%          max  \n",
       "0      2.720341     9.092011  \n",
       "1     25.196446   248.877854  \n",
       "2      6.600000    81.200000  \n",
       "3     65.000000   100.000000  \n",
       "4     82.000000   100.000000  \n",
       "7      2.007143     3.435714  \n",
       "8      1.242857     2.128571  \n",
       "9      9.000000    12.000000  \n",
       "10     0.278929     0.954076  \n",
       "11  1020.000000  1038.900000  \n",
       "12  1022.400000  1040.900000  \n",
       "15   104.000000   143.000000  \n",
       "16    26.400000    46.100000  \n",
       "17    21.800000    36.900000  \n",
       "20    48.000000   135.000000  \n",
       "21    24.000000    69.000000  \n",
       "22  2012.000000  2012.000000  \n",
       "23   200.000000   670.000000  \n",
       "24   316.118054  1426.459838  "
      ]
     },
     "execution_count": 10,
     "metadata": {},
     "output_type": "execute_result"
    }
   ],
   "source": [
    "numerical_train_x = train_x.select_dtypes(include=['float64', 'int64'])\n",
    "\n",
    "numerical_train_x.describe().T\n",
    "\n",
    "#statistical description for numerical columns"
   ]
  },
  {
   "cell_type": "code",
   "execution_count": 11,
   "metadata": {},
   "outputs": [
    {
     "data": {
      "text/html": [
       "<div>\n",
       "<style scoped>\n",
       "    .dataframe tbody tr th:only-of-type {\n",
       "        vertical-align: middle;\n",
       "    }\n",
       "\n",
       "    .dataframe tbody tr th {\n",
       "        vertical-align: top;\n",
       "    }\n",
       "\n",
       "    .dataframe thead th {\n",
       "        text-align: right;\n",
       "    }\n",
       "</style>\n",
       "<table border=\"1\" class=\"dataframe\">\n",
       "  <thead>\n",
       "    <tr style=\"text-align: right;\">\n",
       "      <th></th>\n",
       "      <th>count</th>\n",
       "      <th>unique</th>\n",
       "      <th>top</th>\n",
       "      <th>freq</th>\n",
       "    </tr>\n",
       "  </thead>\n",
       "  <tbody>\n",
       "    <tr>\n",
       "      <th>5</th>\n",
       "      <td>20812</td>\n",
       "      <td>16</td>\n",
       "      <td>D</td>\n",
       "      <td>1604</td>\n",
       "    </tr>\n",
       "    <tr>\n",
       "      <th>6</th>\n",
       "      <td>22161</td>\n",
       "      <td>31</td>\n",
       "      <td>a6</td>\n",
       "      <td>786</td>\n",
       "    </tr>\n",
       "    <tr>\n",
       "      <th>13</th>\n",
       "      <td>22161</td>\n",
       "      <td>3</td>\n",
       "      <td>0</td>\n",
       "      <td>16906</td>\n",
       "    </tr>\n",
       "    <tr>\n",
       "      <th>14</th>\n",
       "      <td>22161</td>\n",
       "      <td>315</td>\n",
       "      <td>0.0mm</td>\n",
       "      <td>13816</td>\n",
       "    </tr>\n",
       "    <tr>\n",
       "      <th>18</th>\n",
       "      <td>21951</td>\n",
       "      <td>16</td>\n",
       "      <td>D</td>\n",
       "      <td>1659</td>\n",
       "    </tr>\n",
       "    <tr>\n",
       "      <th>19</th>\n",
       "      <td>21141</td>\n",
       "      <td>16</td>\n",
       "      <td>E</td>\n",
       "      <td>1861</td>\n",
       "    </tr>\n",
       "  </tbody>\n",
       "</table>\n",
       "</div>"
      ],
      "text/plain": [
       "    count unique    top   freq\n",
       "5   20812     16      D   1604\n",
       "6   22161     31     a6    786\n",
       "13  22161      3      0  16906\n",
       "14  22161    315  0.0mm  13816\n",
       "18  21951     16      D   1659\n",
       "19  21141     16      E   1861"
      ]
     },
     "execution_count": 11,
     "metadata": {},
     "output_type": "execute_result"
    }
   ],
   "source": [
    "categorical_train_x = train_x.select_dtypes(include=['object'])\n",
    "\n",
    "categorical_train_x.describe().T\n",
    "\n",
    "#statistical description for categorical columns"
   ]
  },
  {
   "cell_type": "code",
   "execution_count": 12,
   "metadata": {},
   "outputs": [
    {
     "data": {
      "image/png": "[encoded data removed]",
      "text/plain": [
       "<Figure size 432x288 with 2 Axes>"
      ]
     },
     "metadata": {
      "needs_background": "light"
     },
     "output_type": "display_data"
    }
   ],
   "source": [
    "numerical_df = df_train.select_dtypes(include=['float64', 'int64']) #This df also includes the label.\n",
    "sns.heatmap(numerical_df.corr(),xticklabels=numerical_df.columns,yticklabels=numerical_df.columns)\n",
    "plt.show()\n"
   ]
  },
  {
   "cell_type": "code",
   "execution_count": 13,
   "metadata": {
    "scrolled": false
   },
   "outputs": [
    {
     "data": {
      "image/png": "[encoded data removed]",
      "text/plain": [
       "<Figure size 432x288 with 1 Axes>"
      ]
     },
     "metadata": {
      "needs_background": "light"
     },
     "output_type": "display_data"
    },
    {
     "data": {
      "image/png": "[encoded data removed]",
      "text/plain": [
       "<Figure size 432x288 with 1 Axes>"
      ]
     },
     "metadata": {
      "needs_background": "light"
     },
     "output_type": "display_data"
    },
    {
     "data": {
      "image/png": "[encoded data removed]",
      "text/plain": [
       "<Figure size 432x288 with 1 Axes>"
      ]
     },
     "metadata": {
      "needs_background": "light"
     },
     "output_type": "display_data"
    },
    {
     "data": {
      "image/png": "[encoded data removed]",
      "text/plain": [
       "<Figure size 432x288 with 1 Axes>"
      ]
     },
     "metadata": {
      "needs_background": "light"
     },
     "output_type": "display_data"
    },
    {
     "data": {
      "image/png": "[encoded data removed]",
      "text/plain": [
       "<Figure size 432x288 with 1 Axes>"
      ]
     },
     "metadata": {
      "needs_background": "light"
     },
     "output_type": "display_data"
    },
    {
     "data": {
      "image/png": "[encoded data removed]",
      "text/plain": [
       "<Figure size 432x288 with 1 Axes>"
      ]
     },
     "metadata": {
      "needs_background": "light"
     },
     "output_type": "display_data"
    },
    {
     "data": {
      "image/png": "[encoded data removed]",
      "text/plain": [
       "<Figure size 432x288 with 1 Axes>"
      ]
     },
     "metadata": {
      "needs_background": "light"
     },
     "output_type": "display_data"
    },
    {
     "data": {
      "image/png": "[encoded data removed]",
      "text/plain": [
       "<Figure size 432x288 with 1 Axes>"
      ]
     },
     "metadata": {
      "needs_background": "light"
     },
     "output_type": "display_data"
    },
    {
     "data": {
      "image/png": "[encoded data removed]",
      "text/plain": [
       "<Figure size 432x288 with 1 Axes>"
      ]
     },
     "metadata": {
      "needs_background": "light"
     },
     "output_type": "display_data"
    },
    {
     "data": {
      "image/png": "[encoded data removed]",
      "text/plain": [
       "<Figure size 432x288 with 1 Axes>"
      ]
     },
     "metadata": {
      "needs_background": "light"
     },
     "output_type": "display_data"
    },
    {
     "data": {
      "image/png": "[encoded data removed]",
      "text/plain": [
       "<Figure size 432x288 with 1 Axes>"
      ]
     },
     "metadata": {
      "needs_background": "light"
     },
     "output_type": "display_data"
    },
    {
     "data": {
      "image/png": "[encoded data removed]",
      "text/plain": [
       "<Figure size 432x288 with 1 Axes>"
      ]
     },
     "metadata": {
      "needs_background": "light"
     },
     "output_type": "display_data"
    },
    {
     "data": {
      "image/png": "[encoded data removed]",
      "text/plain": [
       "<Figure size 432x288 with 1 Axes>"
      ]
     },
     "metadata": {
      "needs_background": "light"
     },
     "output_type": "display_data"
    },
    {
     "data": {
      "image/png": "[encoded data removed]",
      "text/plain": [
       "<Figure size 432x288 with 1 Axes>"
      ]
     },
     "metadata": {
      "needs_background": "light"
     },
     "output_type": "display_data"
    },
    {
     "data": {
      "image/png": "[encoded data removed]",
      "text/plain": [
       "<Figure size 432x288 with 1 Axes>"
      ]
     },
     "metadata": {
      "needs_background": "light"
     },
     "output_type": "display_data"
    },
    {
     "data": {
      "image/png": "[encoded data removed]",
      "text/plain": [
       "<Figure size 432x288 with 1 Axes>"
      ]
     },
     "metadata": {
      "needs_background": "light"
     },
     "output_type": "display_data"
    },
    {
     "data": {
      "image/png": "[encoded data removed]",
      "text/plain": [
       "<Figure size 432x288 with 1 Axes>"
      ]
     },
     "metadata": {
      "needs_background": "light"
     },
     "output_type": "display_data"
    },
    {
     "data": {
      "image/png": "[encoded data removed]",
      "text/plain": [
       "<Figure size 432x288 with 1 Axes>"
      ]
     },
     "metadata": {
      "needs_background": "light"
     },
     "output_type": "display_data"
    },
    {
     "data": {
      "image/png": "[encoded data removed]",
      "text/plain": [
       "<Figure size 432x288 with 1 Axes>"
      ]
     },
     "metadata": {
      "needs_background": "light"
     },
     "output_type": "display_data"
    },
    {
     "data": {
      "image/png": "[encoded data removed]",
      "text/plain": [
       "<Figure size 432x288 with 1 Axes>"
      ]
     },
     "metadata": {
      "needs_background": "light"
     },
     "output_type": "display_data"
    },
    {
     "data": {
      "image/png": "[encoded data removed]",
      "text/plain": [
       "<Figure size 432x288 with 1 Axes>"
      ]
     },
     "metadata": {
      "needs_background": "light"
     },
     "output_type": "display_data"
    },
    {
     "data": {
      "image/png": "[encoded data removed]",
      "text/plain": [
       "<Figure size 432x288 with 1 Axes>"
      ]
     },
     "metadata": {
      "needs_background": "light"
     },
     "output_type": "display_data"
    },
    {
     "data": {
      "image/png": "[encoded data removed]",
      "text/plain": [
       "<Figure size 432x288 with 1 Axes>"
      ]
     },
     "metadata": {
      "needs_background": "light"
     },
     "output_type": "display_data"
    },
    {
     "data": {
      "image/png": "[encoded data removed]",
      "text/plain": [
       "<Figure size 432x288 with 1 Axes>"
      ]
     },
     "metadata": {
      "needs_background": "light"
     },
     "output_type": "display_data"
    },
    {
     "data": {
      "image/png": "[encoded data removed]",
      "text/plain": [
       "<Figure size 432x288 with 1 Axes>"
      ]
     },
     "metadata": {
      "needs_background": "light"
     },
     "output_type": "display_data"
    }
   ],
   "source": [
    "for i in range(train_x.shape[1]):\n",
    "\n",
    "    if train_x.dtypes[i] == 'float64' or train_x.dtypes[i] == 'int64':\n",
    "        plt.hist(train_x[str(i)],bins=35, edgecolor='white')\n",
    "        plt.title('histogram of feature number ' + str(i))\n",
    "        plt.xlabel('value')\n",
    "        plt.ylabel('frequency')\n",
    "        if i == 22:\n",
    "            train_x[str(i)].value_counts().plot.bar(edgecolor='white')\n",
    "            plt.title('histogram of feature number ' + str(i))\n",
    "            plt.xlabel('value')\n",
    "            plt.ylabel('frequency')\n",
    "\n",
    "            plt.show()\n",
    "\n",
    "\n",
    "        plt.show()\n",
    "        \n",
    "    if train_x.dtypes[i] == 'object':\n",
    "        if i == 14:\n",
    "            temp_series = (train_x[str(i)])\n",
    "            temp_series = temp_series.str.strip('mm')\n",
    "            temp_series = temp_series.astype('float')\n",
    "            plt.hist(temp_series,bins=100, edgecolor='white')\n",
    "            plt.title('histogram of feature number ' + str(i))\n",
    "            plt.xlabel('value')\n",
    "            plt.ylabel('frequency')\n",
    "            plt.xlim(0, max(temp_series)+10)\n",
    "            plt.show()\n",
    "                        \n",
    "\n",
    "        else:\n",
    "\n",
    "\n",
    "            #y = train_x[str(i)].value_counts()\n",
    "            train_x[str(i)].value_counts().plot.bar(edgecolor='white')\n",
    "            plt.title('histogram of feature number ' + str(i))\n",
    "            plt.xlabel('value')\n",
    "            plt.ylabel('frequency')\n",
    "\n",
    "            plt.show()\n",
    "\n"
   ]
  },
  {
   "cell_type": "markdown",
   "metadata": {},
   "source": [
    "# Part B"
   ]
  },
  {
   "cell_type": "code",
   "execution_count": 14,
   "metadata": {},
   "outputs": [
    {
     "data": {
      "text/html": [
       "<div>\n",
       "<style scoped>\n",
       "    .dataframe tbody tr th:only-of-type {\n",
       "        vertical-align: middle;\n",
       "    }\n",
       "\n",
       "    .dataframe tbody tr th {\n",
       "        vertical-align: top;\n",
       "    }\n",
       "\n",
       "    .dataframe thead th {\n",
       "        text-align: right;\n",
       "    }\n",
       "</style>\n",
       "<table border=\"1\" class=\"dataframe\">\n",
       "  <thead>\n",
       "    <tr style=\"text-align: right;\">\n",
       "      <th></th>\n",
       "      <th>0</th>\n",
       "      <th>1</th>\n",
       "      <th>2</th>\n",
       "      <th>3</th>\n",
       "      <th>4</th>\n",
       "      <th>5</th>\n",
       "      <th>6</th>\n",
       "      <th>7</th>\n",
       "      <th>8</th>\n",
       "      <th>9</th>\n",
       "      <th>10</th>\n",
       "      <th>11</th>\n",
       "      <th>12</th>\n",
       "      <th>13</th>\n",
       "      <th>14</th>\n",
       "      <th>15</th>\n",
       "      <th>16</th>\n",
       "      <th>17</th>\n",
       "      <th>18</th>\n",
       "      <th>19</th>\n",
       "      <th>20</th>\n",
       "      <th>21</th>\n",
       "      <th>22</th>\n",
       "      <th>23</th>\n",
       "      <th>24</th>\n",
       "    </tr>\n",
       "  </thead>\n",
       "  <tbody>\n",
       "    <tr>\n",
       "      <th>0</th>\n",
       "      <td>1.170981</td>\n",
       "      <td>5.672133</td>\n",
       "      <td>0.6</td>\n",
       "      <td>80.0</td>\n",
       "      <td>76.0</td>\n",
       "      <td>D</td>\n",
       "      <td>a21</td>\n",
       "      <td>1.107143</td>\n",
       "      <td>0.692857</td>\n",
       "      <td>5</td>\n",
       "      <td>0.702957</td>\n",
       "      <td>1024.1</td>\n",
       "      <td>1025.9</td>\n",
       "      <td>0</td>\n",
       "      <td>0.6mm</td>\n",
       "      <td>32.0</td>\n",
       "      <td>13.9</td>\n",
       "      <td>12.2</td>\n",
       "      <td>D</td>\n",
       "      <td>D</td>\n",
       "      <td>28.0</td>\n",
       "      <td>7.0</td>\n",
       "      <td>2011</td>\n",
       "      <td>40.0</td>\n",
       "      <td>15.420787</td>\n",
       "    </tr>\n",
       "    <tr>\n",
       "      <th>1</th>\n",
       "      <td>2.595788</td>\n",
       "      <td>23.203289</td>\n",
       "      <td>6.4</td>\n",
       "      <td>43.0</td>\n",
       "      <td>64.0</td>\n",
       "      <td>N</td>\n",
       "      <td>a9</td>\n",
       "      <td>1.700000</td>\n",
       "      <td>0.614286</td>\n",
       "      <td>11</td>\n",
       "      <td>0.223911</td>\n",
       "      <td>1005.3</td>\n",
       "      <td>1008.1</td>\n",
       "      <td>0</td>\n",
       "      <td>0.0mm</td>\n",
       "      <td>50.0</td>\n",
       "      <td>18.6</td>\n",
       "      <td>16.5</td>\n",
       "      <td>N</td>\n",
       "      <td>I</td>\n",
       "      <td>61.0</td>\n",
       "      <td>43.0</td>\n",
       "      <td>2012</td>\n",
       "      <td>110.0</td>\n",
       "      <td>240.496883</td>\n",
       "    </tr>\n",
       "    <tr>\n",
       "      <th>2</th>\n",
       "      <td>0.972794</td>\n",
       "      <td>7.127348</td>\n",
       "      <td>0.4</td>\n",
       "      <td>63.0</td>\n",
       "      <td>100.0</td>\n",
       "      <td>C</td>\n",
       "      <td>a4</td>\n",
       "      <td>1.242857</td>\n",
       "      <td>0.428571</td>\n",
       "      <td>6</td>\n",
       "      <td>0.180848</td>\n",
       "      <td>1020.8</td>\n",
       "      <td>1026.5</td>\n",
       "      <td>0</td>\n",
       "      <td>0.0mm</td>\n",
       "      <td>NaN</td>\n",
       "      <td>16.5</td>\n",
       "      <td>9.6</td>\n",
       "      <td>M</td>\n",
       "      <td>NaN</td>\n",
       "      <td>15.0</td>\n",
       "      <td>7.0</td>\n",
       "      <td>2012</td>\n",
       "      <td>0.0</td>\n",
       "      <td>224.282903</td>\n",
       "    </tr>\n",
       "    <tr>\n",
       "      <th>3</th>\n",
       "      <td>1.891667</td>\n",
       "      <td>17.881507</td>\n",
       "      <td>4.2</td>\n",
       "      <td>65.0</td>\n",
       "      <td>71.0</td>\n",
       "      <td>K</td>\n",
       "      <td>a15</td>\n",
       "      <td>1.050000</td>\n",
       "      <td>0.671429</td>\n",
       "      <td>10</td>\n",
       "      <td>0.181289</td>\n",
       "      <td>1021.9</td>\n",
       "      <td>1019.8</td>\n",
       "      <td>0</td>\n",
       "      <td>0.8mm</td>\n",
       "      <td>88.0</td>\n",
       "      <td>14.2</td>\n",
       "      <td>11.4</td>\n",
       "      <td>K</td>\n",
       "      <td>D</td>\n",
       "      <td>39.0</td>\n",
       "      <td>24.0</td>\n",
       "      <td>2010</td>\n",
       "      <td>130.0</td>\n",
       "      <td>86.810830</td>\n",
       "    </tr>\n",
       "    <tr>\n",
       "      <th>4</th>\n",
       "      <td>1.965881</td>\n",
       "      <td>13.936969</td>\n",
       "      <td>3.2</td>\n",
       "      <td>40.0</td>\n",
       "      <td>62.0</td>\n",
       "      <td>F</td>\n",
       "      <td>a1</td>\n",
       "      <td>1.950000</td>\n",
       "      <td>1.085714</td>\n",
       "      <td>3</td>\n",
       "      <td>0.237347</td>\n",
       "      <td>1005.3</td>\n",
       "      <td>1007.8</td>\n",
       "      <td>0</td>\n",
       "      <td>0.0mm</td>\n",
       "      <td>112.0</td>\n",
       "      <td>26.6</td>\n",
       "      <td>23.4</td>\n",
       "      <td>C</td>\n",
       "      <td>NaN</td>\n",
       "      <td>30.0</td>\n",
       "      <td>20.0</td>\n",
       "      <td>2011</td>\n",
       "      <td>0.0</td>\n",
       "      <td>120.642922</td>\n",
       "    </tr>\n",
       "  </tbody>\n",
       "</table>\n",
       "</div>"
      ],
      "text/plain": [
       "          0          1    2     3      4  5    6         7         8   9  \\\n",
       "0  1.170981   5.672133  0.6  80.0   76.0  D  a21  1.107143  0.692857   5   \n",
       "1  2.595788  23.203289  6.4  43.0   64.0  N   a9  1.700000  0.614286  11   \n",
       "2  0.972794   7.127348  0.4  63.0  100.0  C   a4  1.242857  0.428571   6   \n",
       "3  1.891667  17.881507  4.2  65.0   71.0  K  a15  1.050000  0.671429  10   \n",
       "4  1.965881  13.936969  3.2  40.0   62.0  F   a1  1.950000  1.085714   3   \n",
       "\n",
       "         10      11      12 13     14     15    16    17 18   19    20    21  \\\n",
       "0  0.702957  1024.1  1025.9  0  0.6mm   32.0  13.9  12.2  D    D  28.0   7.0   \n",
       "1  0.223911  1005.3  1008.1  0  0.0mm   50.0  18.6  16.5  N    I  61.0  43.0   \n",
       "2  0.180848  1020.8  1026.5  0  0.0mm    NaN  16.5   9.6  M  NaN  15.0   7.0   \n",
       "3  0.181289  1021.9  1019.8  0  0.8mm   88.0  14.2  11.4  K    D  39.0  24.0   \n",
       "4  0.237347  1005.3  1007.8  0  0.0mm  112.0  26.6  23.4  C  NaN  30.0  20.0   \n",
       "\n",
       "     22     23          24  \n",
       "0  2011   40.0   15.420787  \n",
       "1  2012  110.0  240.496883  \n",
       "2  2012    0.0  224.282903  \n",
       "3  2010  130.0   86.810830  \n",
       "4  2011    0.0  120.642922  "
      ]
     },
     "execution_count": 14,
     "metadata": {},
     "output_type": "execute_result"
    }
   ],
   "source": [
    "# Remembering in the train set (without label)\n",
    "train_x.head()"
   ]
  },
  {
   "cell_type": "code",
   "execution_count": 15,
   "metadata": {},
   "outputs": [],
   "source": [
    "# Removing the initial \"mm\" from column 14\n",
    "train_x['14'] = train_x['14'].str.rstrip(\"mm\").astype('float64')\n",
    "test_x['14'] = test_x['14'].str.rstrip(\"mm\").astype('float64')\n",
    "\n",
    "#train_x.iloc[: , :15].head()"
   ]
  },
  {
   "cell_type": "code",
   "execution_count": 16,
   "metadata": {},
   "outputs": [
    {
     "data": {
      "text/plain": [
       "15    8.44\n",
       "5     6.09\n",
       "20    6.07\n",
       "19    4.60\n",
       "18    0.95\n",
       "12    0.51\n",
       "11    0.48\n",
       "4     0.47\n",
       "23    0.45\n",
       "24    0.45\n",
       "21    0.45\n",
       "14    0.37\n",
       "3     0.27\n",
       "17    0.23\n",
       "16    0.13\n",
       "8     0.08\n",
       "7     0.03\n",
       "13    0.00\n",
       "10    0.00\n",
       "9     0.00\n",
       "6     0.00\n",
       "22    0.00\n",
       "2     0.00\n",
       "1     0.00\n",
       "0     0.00\n",
       "dtype: float64"
      ]
     },
     "execution_count": 16,
     "metadata": {},
     "output_type": "execute_result"
    }
   ],
   "source": [
    "# Showing the percentage of the missing values for each feature\n",
    "\n",
    "null_per = train_x.isnull().sum()*100/train_x.shape[0]\n",
    "null_per.round(2).sort_values(ascending = False)"
   ]
  },
  {
   "cell_type": "markdown",
   "metadata": {},
   "source": [
    "**Handeling missing values:**"
   ]
  },
  {
   "cell_type": "code",
   "execution_count": 17,
   "metadata": {},
   "outputs": [],
   "source": [
    "# Creating a copy of the dataframes\n",
    "train_x_copy = train_x.copy()\n",
    "test_x_copy = test_x.copy()\n",
    "\n",
    "# Defining functions to handle the missing values\n",
    "def fill_numeric_null(df):\n",
    "    df.fillna(df.median(),inplace=True)\n",
    "    return df\n",
    "\n",
    "def fill_categorial_test_null(df):\n",
    "    df[['5','6','13','18','19']]=df[['5','6','13','18','19']].fillna(df.mode().iloc[0])\n",
    "    return df\n",
    "\n",
    "def drop_null_train(df):\n",
    "    df.dropna(axis=0, inplace=True)\n",
    "    return df\n",
    "\n",
    "# Applying the functions on the data-sets\n",
    "train_x_only_categorical_nulls = fill_numeric_null(train_x_copy)\n",
    "mask_categorical_nulls = train_x_only_categorical_nulls.isna().any(axis=1)\n",
    "mask_categorical_no_nulls = ~mask_categorical_nulls\n",
    "train_x_without_null = drop_null_train(train_x_only_categorical_nulls)\n",
    "train_y_without_null = train_y[mask_categorical_no_nulls]\n",
    "\n",
    "\n",
    "train_x_without_null = train_x_without_null.reset_index(drop=True)\n",
    "train_y_without_null = train_y_without_null.reset_index(drop=True)\n",
    "\n",
    "#print(train_x_without_null)\n",
    "#print(train_y_without_null)\n",
    "\n",
    "#NOW WE DONT HAVE NULL VALUES IN THE TRAIN SET.\n",
    "#WE WILL HANDLE NULL VALUES IN TEST SET BY FILLING THEM WITH MEDIAN (FOR NUMERIC), OR MOST COMMON VALUE FOR CATEGORICAL.\n",
    "#WE MADE SURE THAT WE DON'T REMOVE ANY VALUE FROM THE TEST SET!\n",
    "\n",
    "test_after_fill_numeric_null=fill_numeric_null(test_x_copy)\n",
    "\n",
    "test_x_without_null=fill_categorial_test_null(test_after_fill_numeric_null)\n",
    "\n",
    "\n"
   ]
  },
  {
   "cell_type": "code",
   "execution_count": 18,
   "metadata": {},
   "outputs": [
    {
     "data": {
      "text/plain": [
       "(7387, 25)"
      ]
     },
     "execution_count": 18,
     "metadata": {},
     "output_type": "execute_result"
    }
   ],
   "source": [
    "# Making sure that we didn't remove values from the test set:\n",
    "test_x_without_null.shape"
   ]
  },
  {
   "cell_type": "code",
   "execution_count": 19,
   "metadata": {},
   "outputs": [
    {
     "data": {
      "text/plain": [
       "0     0\n",
       "1     0\n",
       "2     0\n",
       "3     0\n",
       "4     0\n",
       "5     0\n",
       "6     0\n",
       "7     0\n",
       "8     0\n",
       "9     0\n",
       "10    0\n",
       "11    0\n",
       "12    0\n",
       "13    0\n",
       "14    0\n",
       "15    0\n",
       "16    0\n",
       "17    0\n",
       "18    0\n",
       "19    0\n",
       "20    0\n",
       "21    0\n",
       "22    0\n",
       "23    0\n",
       "24    0\n",
       "dtype: int64"
      ]
     },
     "execution_count": 19,
     "metadata": {},
     "output_type": "execute_result"
    }
   ],
   "source": [
    "# Making sure that there's no null values in the test set:\n",
    "test_x_without_null.isnull().sum()"
   ]
  },
  {
   "cell_type": "code",
   "execution_count": 20,
   "metadata": {},
   "outputs": [
    {
     "data": {
      "text/plain": [
       "0     0\n",
       "1     0\n",
       "2     0\n",
       "3     0\n",
       "4     0\n",
       "5     0\n",
       "6     0\n",
       "7     0\n",
       "8     0\n",
       "9     0\n",
       "10    0\n",
       "11    0\n",
       "12    0\n",
       "13    0\n",
       "14    0\n",
       "15    0\n",
       "16    0\n",
       "17    0\n",
       "18    0\n",
       "19    0\n",
       "20    0\n",
       "21    0\n",
       "22    0\n",
       "23    0\n",
       "24    0\n",
       "dtype: int64"
      ]
     },
     "execution_count": 20,
     "metadata": {},
     "output_type": "execute_result"
    }
   ],
   "source": [
    "# Making sure that there's no null values in the train set (without the lable):\n",
    "train_x_without_null.isnull().sum()"
   ]
  },
  {
   "cell_type": "code",
   "execution_count": 21,
   "metadata": {},
   "outputs": [
    {
     "name": "stdout",
     "output_type": "stream",
     "text": [
      "We removed 2303 lines from the train data, which are 10% of the original train data\n"
     ]
    }
   ],
   "source": [
    "# Cheking the number of rows that were removed from the train data:\n",
    "lines_removed = train_x.shape[0] - train_x_without_null.shape[0]\n",
    "percentage_removed = math.floor((100*lines_removed/train_x.shape[0]))\n",
    "print(\"We removed \" + str(lines_removed) + \" lines from the train data, which are \" + str(percentage_removed) + \"% \" + \"of the original train data\")"
   ]
  },
  {
   "cell_type": "code",
   "execution_count": 22,
   "metadata": {},
   "outputs": [
    {
     "data": {
      "text/plain": [
       "0     float64\n",
       "1     float64\n",
       "2     float64\n",
       "3     float64\n",
       "4     float64\n",
       "5      object\n",
       "6      object\n",
       "7     float64\n",
       "8     float64\n",
       "9       int64\n",
       "10    float64\n",
       "11    float64\n",
       "12    float64\n",
       "13     object\n",
       "14    float64\n",
       "15    float64\n",
       "16    float64\n",
       "17    float64\n",
       "18     object\n",
       "19     object\n",
       "20    float64\n",
       "21    float64\n",
       "22      int64\n",
       "23    float64\n",
       "24    float64\n",
       "dtype: object"
      ]
     },
     "execution_count": 22,
     "metadata": {},
     "output_type": "execute_result"
    }
   ],
   "source": [
    "# Before handeling the outliers in the data (both train & test data), We'd like to have visibility on the outliers.\n",
    "# To achive that goal, we'll use Boxplot for each feature.\n",
    "# Let us first remember where are the categorial features:\n",
    "\n",
    "train_x_without_null.dtypes"
   ]
  },
  {
   "cell_type": "code",
   "execution_count": 23,
   "metadata": {},
   "outputs": [
    {
     "data": {
      "image/png": "[encoded data removed]",
      "text/plain": [
       "<Figure size 1440x1440 with 20 Axes>"
      ]
     },
     "metadata": {
      "needs_background": "light"
     },
     "output_type": "display_data"
    }
   ],
   "source": [
    "#Plotting the box plot (Only for numeric features) for outliers detection:\n",
    "train_numeric_columns = train_x_without_null.select_dtypes(exclude=['object'])\n",
    "test_numeric_columns = test_x_without_null.select_dtypes(exclude=['object'])\n",
    "\n",
    "f, axes = plt.subplots(5, 4)\n",
    "n=0\n",
    "for i in range(5):\n",
    "    for j in range(4):\n",
    "        train_numeric_columns.iloc[:,[n]].plot(kind='box',ax=axes[i,j], figsize=(20,20))\n",
    "        n += 1\n",
    "\n",
    "\n",
    "plt.show()\n"
   ]
  },
  {
   "cell_type": "code",
   "execution_count": 24,
   "metadata": {},
   "outputs": [
    {
     "data": {
      "text/plain": [
       "(19858,)"
      ]
     },
     "execution_count": 24,
     "metadata": {},
     "output_type": "execute_result"
    }
   ],
   "source": [
    "train_y_without_null.shape"
   ]
  },
  {
   "cell_type": "code",
   "execution_count": 25,
   "metadata": {},
   "outputs": [],
   "source": [
    "# Remove outliers only for numeric columns\n",
    "# Handeling outliers using Z-score method\n",
    "train_x_no_outliers = train_x_without_null[(np.abs(stats.zscore(train_numeric_columns)) < 3).all(axis=1)]\n",
    "\n",
    "# Making sure that same rows remain in the lable of the train set:\n",
    "train_y_no_outliers = train_y_without_null[(np.abs(stats.zscore(train_numeric_columns)) < 3).all(axis=1)]\n",
    "\n",
    "# Reseting the indexes to have a match between each sample and it's respective lable:\n",
    "train_x_no_outliers = train_x_no_outliers.reset_index(drop=True)\n",
    "train_y_no_outliers = train_y_no_outliers.reset_index(drop=True)\n"
   ]
  },
  {
   "cell_type": "code",
   "execution_count": 26,
   "metadata": {},
   "outputs": [
    {
     "data": {
      "text/plain": [
       "(17847,)"
      ]
     },
     "execution_count": 26,
     "metadata": {},
     "output_type": "execute_result"
    }
   ],
   "source": [
    "train_y_no_outliers.shape"
   ]
  },
  {
   "cell_type": "markdown",
   "metadata": {},
   "source": [
    "\n",
    "# Data Scaling\n",
    "###### We will use the Standradization method to scale our data (only the numeric columns). We will apply the scaling both on the train and test sets, using the fit that was made according to the train set. "
   ]
  },
  {
   "cell_type": "code",
   "execution_count": 27,
   "metadata": {},
   "outputs": [],
   "source": [
    "def scaling_data(df1,df2):\n",
    "    model = StandardScaler()\n",
    "    model.fit(df1)\n",
    "    transformed_data = model.transform(df2)\n",
    "    scaled_df = pd.DataFrame(data=transformed_data,columns=df2.columns)\n",
    "    return scaled_df \n",
    "\n",
    "#take only numeric columns\n",
    "train_numeric_columns = train_x_no_outliers.select_dtypes(exclude=['object'])\n",
    "test_numeric_columns = test_x_without_null.select_dtypes(exclude=['object'])\n",
    "\n",
    "# W'd like to scale the numeric values both for train & test sets:\n",
    "scaled_train = scaling_data(train_numeric_columns,train_numeric_columns)\n",
    "scaled_test = scaling_data(train_numeric_columns,test_numeric_columns)\n",
    "\n",
    "# Using One-hot method, W'd like to convert categorial columns into indicator variables:\n",
    "train_converted_categorial_columns=pd.get_dummies(train_x_no_outliers.select_dtypes(include=['object']))\n",
    "test_converted_categorial_columns=pd.get_dummies(test_x_without_null.select_dtypes(include=['object']))\n",
    "\n",
    "test_converted_categorial_columns = test_converted_categorial_columns.drop('6_a25', axis = 1)\n",
    "\n",
    "#WE REMOVE THIS COLUMN FROM TEST BECAUSE IT DOES NOT EXIST IN TRAIN (WE DO NOT REMOVE ROWS.. WE WANT THE SAME DIMENSIONS)\n",
    "\n",
    "# Joining all features back together: \n",
    "train_x_after_scaling=scaled_train.join(train_converted_categorial_columns)\n",
    "train_set = train_x_after_scaling.join(train_y_no_outliers)\n",
    "test_set=scaled_test.join(test_converted_categorial_columns)\n"
   ]
  },
  {
   "cell_type": "markdown",
   "metadata": {},
   "source": [
    "## PCA\n"
   ]
  },
  {
   "cell_type": "code",
   "execution_count": 28,
   "metadata": {},
   "outputs": [],
   "source": [
    "def PCA_function(X,test_set):\n",
    "    # Inital fitting in order to check how many components we need\n",
    "    pca = PCA(X.shape[1])\n",
    "    pca.fit(X)\n",
    "    explained_variance = pca.explained_variance_ratio_.cumsum()\n",
    "    \n",
    "    # we want to choose components that will explain 95% of the explained variance\n",
    "    # second fitting for vizualition \n",
    "    pca = PCA(.95)\n",
    "    pca.fit(X)\n",
    "    x_new = pca.transform(X)\n",
    "    reduced_test_set=pca.transform(test_set)\n",
    "    final_components = pca.components_\n",
    "    return x_new ,reduced_test_set, explained_variance ,final_components"
   ]
  },
  {
   "cell_type": "markdown",
   "metadata": {},
   "source": [
    "# **All features**"
   ]
  },
  {
   "cell_type": "code",
   "execution_count": 29,
   "metadata": {},
   "outputs": [
    {
     "data": {
      "image/png": "[encoded data removed]",
      "text/plain": [
       "<Figure size 432x288 with 1 Axes>"
      ]
     },
     "metadata": {
      "needs_background": "light"
     },
     "output_type": "display_data"
    },
    {
     "name": "stdout",
     "output_type": "stream",
     "text": [
      "We need 53 components to explain 95% of variance\n"
     ]
    }
   ],
   "source": [
    "pca_data ,reduced_test_set,explained_variance, components = PCA_function(train_set.iloc[:,:-1].values,test_set)\n",
    "plt.plot(explained_variance, 'o-', c='b')\n",
    "plt.title('comultive explained variance - all features')\n",
    "plt.xlabel('number of features')\n",
    "plt.ylabel('comulative explained variance')\n",
    "plt.axhline(0.95, c='y')\n",
    "plt.show()\n",
    "print('We need ' + str((components.shape[0])) + ' components to explain 95% of variance')"
   ]
  },
  {
   "cell_type": "code",
   "execution_count": 30,
   "metadata": {},
   "outputs": [],
   "source": [
    "# Creating back the train set and test set after using the PCA:\n",
    "train_after_pca = pd.DataFrame(data=pca_data).join(train_y_no_outliers)\n",
    "test_after_pca = pd.DataFrame(data=reduced_test_set)\n",
    "#print(pca_data.shape)\n",
    "#print(train_y_no_outliers.shape)"
   ]
  },
  {
   "cell_type": "markdown",
   "metadata": {},
   "source": [
    "### Creating new features"
   ]
  },
  {
   "cell_type": "code",
   "execution_count": 31,
   "metadata": {},
   "outputs": [],
   "source": [
    "# Function to calculate both train's set and test's set new features\n",
    "def new_features(df):\n",
    "    df['53'] = df.apply(lambda row: row[1] * row[5] , axis = 1)\n",
    "    df['54'] = df.apply(lambda row: row[2] * row[6] , axis = 1)\n",
    "    df['55'] = df.apply(lambda row: row[3] * row[9] , axis = 1)\n",
    "    return df"
   ]
  },
  {
   "cell_type": "code",
   "execution_count": 32,
   "metadata": {},
   "outputs": [],
   "source": [
    "# Activating the calculation function\n",
    "df_train_w_new_features = new_features(train_after_pca)\n",
    "df_test_w_new_features = new_features(test_after_pca)"
   ]
  },
  {
   "cell_type": "code",
   "execution_count": 33,
   "metadata": {},
   "outputs": [],
   "source": [
    "# Re-arrange the train set so the lable column will be positioned last\n",
    "df_train_w_new_features = df_train_w_new_features.drop('label' , axis = 1)\n",
    "df_train_w_new_features = df_train_w_new_features.join(train_y_no_outliers)\n"
   ]
  },
  {
   "cell_type": "code",
   "execution_count": 34,
   "metadata": {
    "scrolled": true
   },
   "outputs": [
    {
     "data": {
      "text/html": [
       "<div>\n",
       "<style scoped>\n",
       "    .dataframe tbody tr th:only-of-type {\n",
       "        vertical-align: middle;\n",
       "    }\n",
       "\n",
       "    .dataframe tbody tr th {\n",
       "        vertical-align: top;\n",
       "    }\n",
       "\n",
       "    .dataframe thead th {\n",
       "        text-align: right;\n",
       "    }\n",
       "</style>\n",
       "<table border=\"1\" class=\"dataframe\">\n",
       "  <thead>\n",
       "    <tr style=\"text-align: right;\">\n",
       "      <th></th>\n",
       "      <th>53</th>\n",
       "      <th>54</th>\n",
       "      <th>55</th>\n",
       "      <th>label</th>\n",
       "    </tr>\n",
       "  </thead>\n",
       "  <tbody>\n",
       "    <tr>\n",
       "      <th>0</th>\n",
       "      <td>-4.877677</td>\n",
       "      <td>2.313822</td>\n",
       "      <td>0.122408</td>\n",
       "      <td>1</td>\n",
       "    </tr>\n",
       "    <tr>\n",
       "      <th>1</th>\n",
       "      <td>0.101370</td>\n",
       "      <td>-2.203476</td>\n",
       "      <td>-1.858093</td>\n",
       "      <td>0</td>\n",
       "    </tr>\n",
       "    <tr>\n",
       "      <th>2</th>\n",
       "      <td>0.017397</td>\n",
       "      <td>-0.283934</td>\n",
       "      <td>-0.105358</td>\n",
       "      <td>0</td>\n",
       "    </tr>\n",
       "    <tr>\n",
       "      <th>3</th>\n",
       "      <td>-0.177610</td>\n",
       "      <td>-1.124223</td>\n",
       "      <td>-0.045024</td>\n",
       "      <td>0</td>\n",
       "    </tr>\n",
       "    <tr>\n",
       "      <th>4</th>\n",
       "      <td>0.224651</td>\n",
       "      <td>4.787731</td>\n",
       "      <td>-1.868550</td>\n",
       "      <td>1</td>\n",
       "    </tr>\n",
       "  </tbody>\n",
       "</table>\n",
       "</div>"
      ],
      "text/plain": [
       "         53        54        55  label\n",
       "0 -4.877677  2.313822  0.122408      1\n",
       "1  0.101370 -2.203476 -1.858093      0\n",
       "2  0.017397 -0.283934 -0.105358      0\n",
       "3 -0.177610 -1.124223 -0.045024      0\n",
       "4  0.224651  4.787731 -1.868550      1"
      ]
     },
     "execution_count": 34,
     "metadata": {},
     "output_type": "execute_result"
    }
   ],
   "source": [
    "# Checking on the new computed columns:\n",
    "df_train_w_new_features.iloc[ : , 53:57].head()"
   ]
  },
  {
   "cell_type": "markdown",
   "metadata": {},
   "source": [
    "# PART C - FITTING THE MODELS:"
   ]
  },
  {
   "cell_type": "code",
   "execution_count": 35,
   "metadata": {},
   "outputs": [],
   "source": [
    "def KfoldPlot(X, y, clf, k):\n",
    "    # Getting the specific model, and using KFold on it:\n",
    "    model = clf\n",
    "    k_folds = KFold(n_splits=k)\n",
    "    # Defining & initializing the parameters of the function:\n",
    "    cum_true_positive_rate = 0.0\n",
    "    cum_true_positive_rate_train = 0.0\n",
    "    \n",
    "    mean_false_positive_rate = np.arange(0,1,0.01)\n",
    "    range_array = np.linspace(0,1,100)\n",
    "    splitted = k_folds.split(X)\n",
    "    #Iterating on each combination of train-validation that we get from the KFold:\n",
    "    for train_index, validation_index in splitted:\n",
    "        \n",
    "        train_X = X.iloc[train_index]\n",
    "        validation_X = X.iloc[validation_index]\n",
    "        train_y = y.iloc[train_index]\n",
    "        validation_y =  y.iloc[validation_index]\n",
    "        \n",
    "        # Fitting the model according to the train data\n",
    "        model.fit(train_X, train_y)\n",
    "        # Predicting the probabilities for both train & validation sets\n",
    "        predicted_probability = model.predict_proba(validation_X)[:, 1]\n",
    "        predicted_probability_train = model.predict_proba(train_X)[:,1]\n",
    "        \n",
    "        # Building and plotting the ROC curve\n",
    "        ROC_values = roc_curve(validation_y, predicted_probability)\n",
    "        false_positive_rate = ROC_values[0]\n",
    "        true_positive_rate = ROC_values[1]\n",
    "        thresholds = ROC_values[2]\n",
    "        \n",
    "        ROC_values_train = roc_curve(train_y, predicted_probability_train)\n",
    "        false_positive_rate_train = ROC_values_train[0]\n",
    "        true_positive_rate_train = ROC_values_train[1]\n",
    "        thresholds_train = ROC_values_train[2]\n",
    "        \n",
    "        cum_true_positive_rate += np.interp(mean_false_positive_rate, false_positive_rate, true_positive_rate)\n",
    "        cum_true_positive_rate[0] = 0.0\n",
    "        \n",
    "        cum_true_positive_rate_train += np.interp(mean_false_positive_rate, false_positive_rate_train, true_positive_rate_train)\n",
    "        cum_true_positive_rate_train[0] = 0.0\n",
    "\n",
    "        \n",
    "        plt.plot(false_positive_rate, true_positive_rate, color='red')   \n",
    "    \n",
    "    mean_true_positive_rate = cum_true_positive_rate/float(k)\n",
    "    mean_true_positive_rate[-1] = 1.0\n",
    "    \n",
    "    mean_true_positive_rate_train = cum_true_positive_rate_train/float(k)\n",
    "    mean_true_positive_rate_train[-1] = 1.0\n",
    "    \n",
    "    auc_result = auc(range_array, mean_true_positive_rate) \n",
    "    auc_result_train = auc(range_array, mean_true_positive_rate_train)\n",
    "        \n",
    "    plt.plot([0, 1], [0, 1], color='b', linestyle='--', label = 'Random-Guess Line')\n",
    "    \n",
    "    plt.plot(mean_false_positive_rate, mean_true_positive_rate, color='k', linestyle='-', label='AUC is '+str(auc_result)[:6])\n",
    "\n",
    "\n",
    "    plt.xlabel('False Positive Rate')\n",
    "    plt.ylabel('True Positive Rate')\n",
    "    plt.title('ROC curve for ' + str(clf)[:str(clf).index('(')] + ' Model')\n",
    "    plt.legend()\n",
    "    plt.show()\n",
    "    \n",
    "    #print (clf,auc_result,auc_result_train)\n",
    "\n",
    "    return clf,auc_result,auc_result_train\n"
   ]
  },
  {
   "cell_type": "code",
   "execution_count": 36,
   "metadata": {},
   "outputs": [],
   "source": [
    "# Getting the train data without the lable, and only with the lable:\n",
    "train_x_after_preprocessing = df_train_w_new_features.drop('label' , axis = 1)\n",
    "train_y_after_preprocessing = df_train_w_new_features['label']\n",
    "\n",
    "#print(train_x_after_preprocessing)\n",
    "#print(train_y_after_preprocessing)\n"
   ]
  },
  {
   "cell_type": "code",
   "execution_count": 37,
   "metadata": {},
   "outputs": [],
   "source": [
    "# The chosen simple models are:\n",
    "\n",
    "clf1 = GaussianNB()\n",
    "clf2 = KNeighborsClassifier()"
   ]
  },
  {
   "cell_type": "code",
   "execution_count": 38,
   "metadata": {},
   "outputs": [
    {
     "data": {
      "image/png": "[encoded data removed]",
      "text/plain": [
       "<Figure size 432x288 with 1 Axes>"
      ]
     },
     "metadata": {
      "needs_background": "light"
     },
     "output_type": "display_data"
    },
    {
     "data": {
      "image/png": "[encoded data removed]",
      "text/plain": [
       "<Figure size 432x288 with 1 Axes>"
      ]
     },
     "metadata": {
      "needs_background": "light"
     },
     "output_type": "display_data"
    }
   ],
   "source": [
    "# Getting the results for each model\n",
    "simple_clfs_lst = [clf1,clf2]\n",
    "kfold_results = []\n",
    "for clf in simple_clfs_lst:\n",
    "    kfold_results.append(KfoldPlot(train_x_after_preprocessing, train_y_after_preprocessing, clf, 5))\n"
   ]
  },
  {
   "cell_type": "code",
   "execution_count": 39,
   "metadata": {},
   "outputs": [
    {
     "name": "stdout",
     "output_type": "stream",
     "text": [
      "1\n",
      "2\n",
      "3\n",
      "4\n",
      "5\n",
      "6\n"
     ]
    }
   ],
   "source": [
    "# Applying the chosen complex models are:\n",
    "\n",
    "clf3_parameters_options={'n_estimators':[50,100,150,300], 'max_depth':[1,2,3,4,5,6],'random_state':[0,1]} \n",
    "#clf3_parameters_options={'n_estimators':[50], 'max_depth':[1],'random_state':[0,1]} \n",
    "print ('1')\n",
    "clf3_gs=GridSearchCV(RandomForestClassifier(), clf3_parameters_options,cv=3,scoring='roc_auc',n_jobs=-1)\n",
    "print ('2')\n",
    "clf3_gs.fit(train_x_after_preprocessing,train_y_after_preprocessing)\n",
    "print ('3')\n",
    "\n",
    "clf4_parameters_options={'activation':['relu','logistic','tanh'], 'hidden_layer_sizes':[(100,),(50,50),(20,20,20,10)],'batch_size':[10,50],'learning_rate_init':[0.1,0.01],'max_iter':[1500]}\n",
    "#clf4_parameters_options={'activation':['tanh'], 'hidden_layer_sizes':[(50,50)],'batch_size':[10],'learning_rate_init':[0.1],'max_iter':[1500]}\n",
    "print ('4')\n",
    "clf4_gs=GridSearchCV(MLPClassifier(), clf4_parameters_options,cv=3,scoring='roc_auc',n_jobs=-1)#choosing the best parameters\n",
    "print ('5')\n",
    "clf4_gs.fit(train_x_after_preprocessing,train_y_after_preprocessing)\n",
    "print ('6')\n",
    "\n",
    "#we use the prints because this commands take a lot of time\n",
    "\n",
    "clf3 = RandomForestClassifier(**clf3_gs.best_params_)\n",
    "clf4 = MLPClassifier(**clf4_gs.best_params_,random_state=42)\n",
    "\n",
    "\n"
   ]
  },
  {
   "cell_type": "code",
   "execution_count": 40,
   "metadata": {},
   "outputs": [
    {
     "name": "stdout",
     "output_type": "stream",
     "text": [
      "{'max_depth': 6, 'n_estimators': 300, 'random_state': 0}\n",
      "{'activation': 'logistic', 'batch_size': 50, 'hidden_layer_sizes': (50, 50), 'learning_rate_init': 0.1, 'max_iter': 1500}\n"
     ]
    }
   ],
   "source": [
    "# Checking on the best parameters of the models:\n",
    "print (clf3_gs.best_params_)\n",
    "print (clf4_gs.best_params_)"
   ]
  },
  {
   "cell_type": "code",
   "execution_count": 41,
   "metadata": {},
   "outputs": [
    {
     "data": {
      "image/png": "[encoded data removed]",
      "text/plain": [
       "<Figure size 432x288 with 1 Axes>"
      ]
     },
     "metadata": {
      "needs_background": "light"
     },
     "output_type": "display_data"
    },
    {
     "data": {
      "image/png": "[encoded data removed]",
      "text/plain": [
       "<Figure size 432x288 with 1 Axes>"
      ]
     },
     "metadata": {
      "needs_background": "light"
     },
     "output_type": "display_data"
    }
   ],
   "source": [
    "# Activiting each of the complex models\n",
    "complex_clfs_lst = [clf3,clf4]\n",
    "\n",
    "for clf in complex_clfs_lst:\n",
    "    kfold_results.append(KfoldPlot(train_x_after_preprocessing, train_y_after_preprocessing, clf, 5))\n"
   ]
  },
  {
   "cell_type": "markdown",
   "metadata": {},
   "source": [
    "# PART D - Models Evaluations"
   ]
  },
  {
   "cell_type": "code",
   "execution_count": 42,
   "metadata": {},
   "outputs": [
    {
     "name": "stdout",
     "output_type": "stream",
     "text": [
      "GaussianNB Weighted Accuracy: 0.6139099794454466\n",
      "KNeighborsClassifier Weighted Accuracy: 0.7838866356216514\n",
      "RandomForestClassifier Weighted Accuracy: 0.8334168197250514\n",
      "MLPClassifier Weighted Accuracy: 0.6349405134627426\n"
     ]
    },
    {
     "data": {
      "image/png": "[encoded data removed]",
      "text/plain": [
       "<Figure size 432x288 with 2 Axes>"
      ]
     },
     "metadata": {
      "needs_background": "light"
     },
     "output_type": "display_data"
    },
    {
     "name": "stdout",
     "output_type": "stream",
     "text": [
      "MLPClassifier accuracy: 0.8522440746343923\n"
     ]
    }
   ],
   "source": [
    "# A function to calculate the accuracy index as defined in the project's instructions\n",
    "def calc_weighted_accuracy(clf):\n",
    "    y_pred = clf.predict(train_x_after_preprocessing)\n",
    "    y_label = train_y_after_preprocessing\n",
    "    cm = confusion_matrix(y_label, y_pred)\n",
    "    tn, fp, fn, tp = cm.ravel()\n",
    "    return (tn + tp)/(tn+tp+fn+5*fp)\n",
    "\n",
    "\n",
    "for clf in simple_clfs_lst:\n",
    "    print (str(clf).partition(\"(\")[0] + ' Weighted Accuracy: ' + str(calc_weighted_accuracy(clf)))\n",
    "for clf in complex_clfs_lst:\n",
    "    print (str(clf).partition(\"(\")[0] + ' Weighted Accuracy: ' + str(calc_weighted_accuracy(clf)))\n",
    "\n",
    "    \n",
    "# Plotting the confusion matrix of the best model    \n",
    "plot_confusion_matrix(clf4, train_x_after_preprocessing, train_y_after_preprocessing,cmap=plt.cm.Blues,values_format='d')\n",
    "plt.show()\n",
    "print(str(clf4).partition(\"(\")[0] + ' accuracy: ' + str(clf4.score(train_x_after_preprocessing,train_y_after_preprocessing)))"
   ]
  },
  {
   "cell_type": "code",
   "execution_count": 43,
   "metadata": {},
   "outputs": [
    {
     "data": {
      "text/html": [
       "<div>\n",
       "<style scoped>\n",
       "    .dataframe tbody tr th:only-of-type {\n",
       "        vertical-align: middle;\n",
       "    }\n",
       "\n",
       "    .dataframe tbody tr th {\n",
       "        vertical-align: top;\n",
       "    }\n",
       "\n",
       "    .dataframe thead th {\n",
       "        text-align: right;\n",
       "    }\n",
       "</style>\n",
       "<table border=\"1\" class=\"dataframe\">\n",
       "  <thead>\n",
       "    <tr style=\"text-align: right;\">\n",
       "      <th></th>\n",
       "      <th>Classifier</th>\n",
       "      <th>train-auc_value</th>\n",
       "      <th>validation-auc_value</th>\n",
       "      <th>difference</th>\n",
       "      <th>overfit</th>\n",
       "    </tr>\n",
       "  </thead>\n",
       "  <tbody>\n",
       "    <tr>\n",
       "      <th>0</th>\n",
       "      <td>GaussianNB</td>\n",
       "      <td>0.818028</td>\n",
       "      <td>0.814921</td>\n",
       "      <td>0.003106</td>\n",
       "      <td>False</td>\n",
       "    </tr>\n",
       "    <tr>\n",
       "      <th>1</th>\n",
       "      <td>KNeighborsClassifier</td>\n",
       "      <td>0.933354</td>\n",
       "      <td>0.802360</td>\n",
       "      <td>0.130995</td>\n",
       "      <td>True</td>\n",
       "    </tr>\n",
       "    <tr>\n",
       "      <th>2</th>\n",
       "      <td>RandomForestClassifier</td>\n",
       "      <td>0.886870</td>\n",
       "      <td>0.851268</td>\n",
       "      <td>0.035602</td>\n",
       "      <td>False</td>\n",
       "    </tr>\n",
       "    <tr>\n",
       "      <th>3</th>\n",
       "      <td>MLPClassifier</td>\n",
       "      <td>0.884544</td>\n",
       "      <td>0.865481</td>\n",
       "      <td>0.019063</td>\n",
       "      <td>False</td>\n",
       "    </tr>\n",
       "  </tbody>\n",
       "</table>\n",
       "</div>"
      ],
      "text/plain": [
       "               Classifier  train-auc_value  validation-auc_value  difference  \\\n",
       "0              GaussianNB         0.818028              0.814921    0.003106   \n",
       "1    KNeighborsClassifier         0.933354              0.802360    0.130995   \n",
       "2  RandomForestClassifier         0.886870              0.851268    0.035602   \n",
       "3           MLPClassifier         0.884544              0.865481    0.019063   \n",
       "\n",
       "   overfit  \n",
       "0    False  \n",
       "1     True  \n",
       "2    False  \n",
       "3    False  "
      ]
     },
     "execution_count": 43,
     "metadata": {},
     "output_type": "execute_result"
    }
   ],
   "source": [
    "# Checking for overfitting for each model\n",
    "over_fit_check = pd.DataFrame(columns=['Classifier','train-auc_value', 'validation-auc_value'])\n",
    "\n",
    "\n",
    "for result in kfold_results:\n",
    "    temporary_pd = pd.DataFrame([[str(result[0]).split('(')[0], result[2], result[1]]],columns=['Classifier','train-auc_value', 'validation-auc_value'])\n",
    "    over_fit_check=over_fit_check.append(temporary_pd,ignore_index=True)\n",
    "    \n",
    "\n",
    "\n",
    "over_fit_check['difference'] = over_fit_check['train-auc_value'] - over_fit_check['validation-auc_value']\n",
    "over_fit_check['overfit'] = over_fit_check['difference']>0.1\n",
    "\n",
    "over_fit_check"
   ]
  },
  {
   "cell_type": "code",
   "execution_count": 44,
   "metadata": {},
   "outputs": [
    {
     "name": "stdout",
     "output_type": "stream",
     "text": [
      "      pred_proba\n",
      "0       0.051690\n",
      "1       0.226354\n",
      "2       0.046009\n",
      "3       0.020161\n",
      "4       0.005747\n",
      "...          ...\n",
      "7382    0.005753\n",
      "7383    0.249429\n",
      "7384    0.006482\n",
      "7385    0.021063\n",
      "7386    0.051750\n",
      "\n",
      "[7387 rows x 1 columns]\n"
     ]
    }
   ],
   "source": [
    "# Preparing the results and export them as a csv file\n",
    "clf = clf4\n",
    "clf.fit(train_x_after_preprocessing, train_y_after_preprocessing)\n",
    "our_prediction = pd.DataFrame(clf.predict_proba(df_test_w_new_features))\n",
    "our_prediction = pd.DataFrame(our_prediction[1])\n",
    "our_prediction = our_prediction.rename(columns = {1 : \"pred_proba\"})\n",
    "print (our_prediction)\n",
    "our_prediction.to_csv('Submission_group_35.csv')\n",
    "#clf = LR_clf.fit(fs_data.values,Y_final)"
   ]
  },
  {
   "cell_type": "code",
   "execution_count": 45,
   "metadata": {},
   "outputs": [
    {
     "name": "stdout",
     "output_type": "stream",
     "text": [
      "Total running time: 0:16:17.267192\n"
     ]
    }
   ],
   "source": [
    "# Checking the final time of the program\n",
    "end_time = datetime.datetime.now()\n",
    "print('Total running time: '+ str(end_time - start_time))"
   ]
  }
 ],
 "metadata": {
  "kernelspec": {
   "display_name": "Python 3",
   "language": "python",
   "name": "python3"
  },
  "language_info": {
   "codemirror_mode": {
    "name": "ipython",
    "version": 3
   },
   "file_extension": ".py",
   "mimetype": "text/x-python",
   "name": "python",
   "nbconvert_exporter": "python",
   "pygments_lexer": "ipython3",
   "version": "3.7.7"
  }
 },
 "nbformat": 4,
 "nbformat_minor": 2
}
